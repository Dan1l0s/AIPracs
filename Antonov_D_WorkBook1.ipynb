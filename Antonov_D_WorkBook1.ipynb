{
 "cells": [
  {
   "cell_type": "markdown",
   "id": "5cc956e9",
   "metadata": {},
   "source": [
    "# 1.2 Пример"
   ]
  },
  {
   "cell_type": "code",
   "execution_count": 11,
   "id": "860d3b72",
   "metadata": {},
   "outputs": [],
   "source": [
    "# Вывести и определить тип переменных\n",
    "x = 3+5.2*7\n",
    "y = None\n",
    "z = 'a', 5, 12.345, (2, 'b')\n",
    "df = [['Антонова Антонина', 34, 'ж'], ['Борисов Борис', 26, 'м']]\n",
    "A = {1, 'title', 2, 'content'}"
   ]
  },
  {
   "cell_type": "code",
   "execution_count": 12,
   "id": "ecb60375",
   "metadata": {},
   "outputs": [
    {
     "name": "stdout",
     "output_type": "stream",
     "text": [
      "39.4 | <class 'float'> \n",
      " None | <class 'NoneType'> \n",
      " ('a', 5, 12.345, (2, 'b')) | <class 'tuple'> \n",
      " [['Антонова Антонина', 34, 'ж'], ['Борисов Борис', 26, 'м']] | <class 'list'> \n",
      " {1, 'title', 2, 'content'} | <class 'set'>\n"
     ]
    }
   ],
   "source": [
    "print(x, '|', type(x),'\\n', y, '|', type(y), '\\n', z, '|', type(z), '\\n', df, '|', type(df), '\\n', A, '|', type(A))"
   ]
  },
  {
   "cell_type": "markdown",
   "id": "ec3e7bc5",
   "metadata": {},
   "source": [
    "# 1.3 Задание"
   ]
  },
  {
   "cell_type": "code",
   "execution_count": 13,
   "id": "01957884",
   "metadata": {},
   "outputs": [],
   "source": [
    "# Вывести и определить тип переменных\n",
    "x = 5 >= 2\n",
    "A = {1, 3, 7, 8}\n",
    "B = {2, 4, 5, 10, 'apple'}\n",
    "C = A & B\n",
    "df = 'Антонова Антонина', 34, 'ж'\n",
    "z = 'type'\n",
    "D = [1, 'title', 2, 'content']"
   ]
  },
  {
   "cell_type": "code",
   "execution_count": 14,
   "id": "feaf09b7",
   "metadata": {},
   "outputs": [
    {
     "name": "stdout",
     "output_type": "stream",
     "text": [
      "True | <class 'bool'> \n",
      " {8, 1, 3, 7} | <class 'set'> \n",
      " {2, 4, 5, 'apple', 10} | <class 'set'> set() | <class 'set'> \n",
      " ('Антонова Антонина', 34, 'ж') | <class 'tuple'> \n",
      " type | <class 'str'> \n",
      " [1, 'title', 2, 'content'] | <class 'list'>\n"
     ]
    }
   ],
   "source": [
    "print(x, '|', type(x),'\\n', A, '|', type(A), '\\n', B, '|', type(B), C, '|', type(C),'\\n', df, '|', type(df), '\\n', z, '|', type(z), '\\n', D, '|', type(D))"
   ]
  },
  {
   "cell_type": "markdown",
   "id": "67dd1895",
   "metadata": {},
   "source": [
    "# 2.2 Пример"
   ]
  },
  {
   "cell_type": "code",
   "execution_count": 15,
   "id": "afdafb3b",
   "metadata": {},
   "outputs": [
    {
     "name": "stdout",
     "output_type": "stream",
     "text": [
      "x положительный\n"
     ]
    }
   ],
   "source": [
    "# Вывести является ли переменная положительной, отрицательной или равна нулю\n",
    "x = 125\n",
    "if x<0:\n",
    "    print(\"x отрицательный\")\n",
    "elif x==0:\n",
    "    print(\"x равен нулю\")\n",
    "else:\n",
    "    print(\"x положительный\")"
   ]
  },
  {
   "cell_type": "markdown",
   "id": "f364ed4b",
   "metadata": {},
   "source": [
    "# 2.3 Задание"
   ]
  },
  {
   "cell_type": "code",
   "execution_count": 16,
   "id": "af346840",
   "metadata": {},
   "outputs": [],
   "source": [
    "# Задаётся x, напечатать какому из интервалов принадлежит: (-infinity, -5), [-5, 5] или от (5, +infinity)"
   ]
  },
  {
   "cell_type": "code",
   "execution_count": 17,
   "id": "f6a8cc9f",
   "metadata": {},
   "outputs": [
    {
     "name": "stdout",
     "output_type": "stream",
     "text": [
      "[-5, 5]\n"
     ]
    }
   ],
   "source": [
    "x = 4\n",
    "if x<-5:\n",
    "    print(\"(-infinity, -5)\")\n",
    "elif x>5:\n",
    "    print(\"(5, +infinity)\")\n",
    "else:\n",
    "    print([-5, 5])"
   ]
  },
  {
   "cell_type": "markdown",
   "id": "68a0acec",
   "metadata": {},
   "source": [
    "# 3.2.1 Пример"
   ]
  },
  {
   "cell_type": "code",
   "execution_count": 18,
   "id": "2e88cf2d",
   "metadata": {},
   "outputs": [],
   "source": [
    "# Вывести все числа от 1 до 10 с шагом 3."
   ]
  },
  {
   "cell_type": "code",
   "execution_count": 19,
   "id": "c29350b8",
   "metadata": {},
   "outputs": [
    {
     "name": "stdout",
     "output_type": "stream",
     "text": [
      "1\n",
      "4\n",
      "7\n",
      "10\n"
     ]
    }
   ],
   "source": [
    "x = 1\n",
    "while x <= 10:\n",
    "    print(x)\n",
    "    x += 3"
   ]
  },
  {
   "cell_type": "markdown",
   "id": "8afdd568",
   "metadata": {},
   "source": [
    "# 3.2.2 Пример"
   ]
  },
  {
   "cell_type": "code",
   "execution_count": 22,
   "id": "4600093c",
   "metadata": {},
   "outputs": [],
   "source": [
    "# Задан список. Напечатать все элементы списка."
   ]
  },
  {
   "cell_type": "code",
   "execution_count": 20,
   "id": "2b88d17c",
   "metadata": {},
   "outputs": [
    {
     "name": "stdout",
     "output_type": "stream",
     "text": [
      "KNN\n",
      "decision tree\n",
      "linear model\n"
     ]
    }
   ],
   "source": [
    "models = ['KNN', 'decision tree', 'linear model']\n",
    "for model in models:\n",
    "    print(model)"
   ]
  },
  {
   "cell_type": "markdown",
   "id": "c4abf86a",
   "metadata": {},
   "source": [
    "# 3.2.3 Пример"
   ]
  },
  {
   "cell_type": "code",
   "execution_count": 21,
   "id": "e0c8411a",
   "metadata": {},
   "outputs": [],
   "source": [
    "# Создать список от 1 до 99 с шагом 7."
   ]
  },
  {
   "cell_type": "code",
   "execution_count": 25,
   "id": "c7d3e08f",
   "metadata": {},
   "outputs": [
    {
     "name": "stdout",
     "output_type": "stream",
     "text": [
      "[1, 8, 15, 22, 29, 36, 43, 50, 57, 64, 71, 78, 85, 92, 99]\n"
     ]
    }
   ],
   "source": [
    "list_int = range(1, 100, 7)\n",
    "print(list(list_int))"
   ]
  },
  {
   "cell_type": "markdown",
   "id": "94d86898",
   "metadata": {},
   "source": [
    "# 3.2.4 Пример"
   ]
  },
  {
   "cell_type": "code",
   "execution_count": 26,
   "id": "56271ad3",
   "metadata": {},
   "outputs": [],
   "source": [
    "# Вывести числа от 1 до 105 с шагом 25, используя функцию range()"
   ]
  },
  {
   "cell_type": "code",
   "execution_count": 27,
   "id": "85f306cf",
   "metadata": {},
   "outputs": [
    {
     "name": "stdout",
     "output_type": "stream",
     "text": [
      "5\n",
      "30\n",
      "55\n",
      "80\n",
      "105\n"
     ]
    }
   ],
   "source": [
    "for i in range(5, 106, 25):\n",
    "    print(i)"
   ]
  },
  {
   "cell_type": "markdown",
   "id": "e785e82c",
   "metadata": {},
   "source": [
    "# 3.2.5 Пример"
   ]
  },
  {
   "cell_type": "code",
   "execution_count": 28,
   "id": "398a74d2",
   "metadata": {},
   "outputs": [],
   "source": [
    "# Необходимо получить каждый k-й элемент массива a, начиная с элемента с индексом i и заканчивая элементом с индексом j (не включительно), с шагом 2"
   ]
  },
  {
   "cell_type": "code",
   "execution_count": 29,
   "id": "2ba9fd62",
   "metadata": {},
   "outputs": [
    {
     "name": "stdout",
     "output_type": "stream",
     "text": [
      "[2, 4, 6]\n",
      "[9, 8, 7, 6, 5, 4, 3, 2, 1]\n"
     ]
    }
   ],
   "source": [
    "a = [1, 2, 3, 4, 5, 6, 7, 8, 9]\n",
    "b = a[1:7:2]\n",
    "c = a[::-1]\n",
    "print(b)\n",
    "print(c)"
   ]
  },
  {
   "cell_type": "markdown",
   "id": "4a239376",
   "metadata": {},
   "source": [
    "# 3.3.1 Задание"
   ]
  },
  {
   "cell_type": "code",
   "execution_count": 30,
   "id": "971696e9",
   "metadata": {},
   "outputs": [],
   "source": [
    "# выведите числа из примера на while (3.2.1) в обратном порядке"
   ]
  },
  {
   "cell_type": "code",
   "execution_count": 31,
   "id": "2665c689",
   "metadata": {},
   "outputs": [
    {
     "name": "stdout",
     "output_type": "stream",
     "text": [
      "10\n",
      "7\n",
      "4\n",
      "1\n"
     ]
    }
   ],
   "source": [
    "x = 10\n",
    "while x > 0:\n",
    "    print(x)\n",
    "    x-=3"
   ]
  },
  {
   "cell_type": "markdown",
   "id": "863a4b13",
   "metadata": {},
   "source": [
    "# 3.3.2 Задание"
   ]
  },
  {
   "cell_type": "code",
   "execution_count": 32,
   "id": "9feb5beb",
   "metadata": {},
   "outputs": [],
   "source": [
    "# Создайте список значимых характеристик, идентифицирующих человека, выведите список."
   ]
  },
  {
   "cell_type": "code",
   "execution_count": 34,
   "id": "486783a3",
   "metadata": {},
   "outputs": [
    {
     "name": "stdout",
     "output_type": "stream",
     "text": [
      "ответственный\n",
      "порядочный\n",
      "пунктуальный\n",
      "сообразительный\n",
      "открытый\n",
      "работолюбивый\n"
     ]
    }
   ],
   "source": [
    "person = ['ответственный', 'порядочный', 'пунктуальный', 'сообразительный', 'открытый', 'работолюбивый']\n",
    "for man in person:\n",
    "    print(man)"
   ]
  },
  {
   "cell_type": "markdown",
   "id": "0ce72d1d",
   "metadata": {},
   "source": [
    "# 3.3.3 Задание"
   ]
  },
  {
   "cell_type": "code",
   "execution_count": 35,
   "id": "de6d6c80",
   "metadata": {},
   "outputs": [],
   "source": [
    "# Создайте список чисел от 2 до 15 с шагом 1."
   ]
  },
  {
   "cell_type": "code",
   "execution_count": 36,
   "id": "e597ba18",
   "metadata": {},
   "outputs": [
    {
     "name": "stdout",
     "output_type": "stream",
     "text": [
      "[2, 3, 4, 5, 6, 7, 8, 9, 10, 11, 12, 13, 14, 15]\n"
     ]
    }
   ],
   "source": [
    "list_int = range(2, 16, 1)\n",
    "print(list(list_int))"
   ]
  },
  {
   "cell_type": "markdown",
   "id": "73f5e4fd",
   "metadata": {},
   "source": [
    "# 3.3.4 Задание"
   ]
  },
  {
   "cell_type": "code",
   "execution_count": 37,
   "id": "64a47e5c",
   "metadata": {},
   "outputs": [],
   "source": [
    "# Выведите числа из примера на for с функцией range() (3.2.4) в обратном порядке"
   ]
  },
  {
   "cell_type": "code",
   "execution_count": 40,
   "id": "4db0681e",
   "metadata": {},
   "outputs": [
    {
     "name": "stdout",
     "output_type": "stream",
     "text": [
      "105\n",
      "80\n",
      "55\n",
      "30\n",
      "5\n"
     ]
    }
   ],
   "source": [
    "for i in range(105, 4, -25):\n",
    "    print(i)"
   ]
  },
  {
   "cell_type": "markdown",
   "id": "4b07d3c4",
   "metadata": {},
   "source": [
    "# 3.3.5 Задание"
   ]
  },
  {
   "cell_type": "code",
   "execution_count": 41,
   "id": "68d210b2",
   "metadata": {},
   "outputs": [],
   "source": [
    "# Срез. Напишите код, который все элементы массива x с четными индексами \n",
    "# переставит в обратном порядке. Т.е. если x = [0, 1, 2, 3, 4, 5, 6, 7, 8, 9], то код должен сформировать [8, 1, 6, 3, 4, 5, 2, 7, 0, 9]."
   ]
  },
  {
   "cell_type": "code",
   "execution_count": 42,
   "id": "d9acd3f4",
   "metadata": {},
   "outputs": [
    {
     "name": "stdout",
     "output_type": "stream",
     "text": [
      "[8, 1, 6, 3, 4, 5, 2, 7, 0, 9]\n"
     ]
    }
   ],
   "source": [
    "x = [0, 1, 2, 3, 4, 5, 6, 7, 8, 9]\n",
    "x[0:10:2] = x[0:10:2][::-1]\n",
    "print(x)"
   ]
  },
  {
   "cell_type": "markdown",
   "id": "c1fb29b2",
   "metadata": {},
   "source": [
    "# 4.2.1 Пример"
   ]
  },
  {
   "cell_type": "code",
   "execution_count": 43,
   "id": "ea482c39",
   "metadata": {},
   "outputs": [],
   "source": [
    "# Рассчитать синус от е радиан и вывести результат на экран"
   ]
  },
  {
   "cell_type": "code",
   "execution_count": 44,
   "id": "010c05dd",
   "metadata": {},
   "outputs": [
    {
     "name": "stdout",
     "output_type": "stream",
     "text": [
      "0.41078129050290885\n"
     ]
    }
   ],
   "source": [
    "import math as m\n",
    "print(m.sin(m.e))"
   ]
  },
  {
   "cell_type": "markdown",
   "id": "241c0978",
   "metadata": {},
   "source": [
    "# 4.2.2 Пример"
   ]
  },
  {
   "cell_type": "code",
   "execution_count": 45,
   "id": "b8dce58a",
   "metadata": {},
   "outputs": [],
   "source": [
    "# Для функции sin(𝑥𝑒cos(𝑥)) на интервале [0;10] с шагом 0,05 построить\n",
    "# график функции, закрасить площадь под ним и вычислить значение этой площади"
   ]
  },
  {
   "cell_type": "code",
   "execution_count": 47,
   "id": "e4842e0b",
   "metadata": {},
   "outputs": [
    {
     "name": "stdout",
     "output_type": "stream",
     "text": [
      "73.50792907748662\n"
     ]
    },
    {
     "data": {
      "image/png": "[encoded data removed]",
      "text/plain": [
       "<Figure size 432x288 with 1 Axes>"
      ]
     },
     "metadata": {
      "needs_background": "light"
     },
     "output_type": "display_data"
    }
   ],
   "source": [
    "import numpy as np\n",
    "import matplotlib.pyplot as plt\n",
    "from scipy.integrate import simps\n",
    "from numpy import trapz\n",
    "x = np.arange(0.0, 10, 0.1)\n",
    "y = np.abs(np.sin(x*np.exp(np.cos(x))))\n",
    "plt.grid()\n",
    "plt.plot(x, y, c = \"r\")\n",
    "plt.fill_between(x, y)\n",
    "\n",
    "area = trapz(y)\n",
    "print(area)"
   ]
  },
  {
   "cell_type": "markdown",
   "id": "f37cff36",
   "metadata": {},
   "source": [
    "# 4.2.3 Пример"
   ]
  },
  {
   "cell_type": "code",
   "execution_count": 48,
   "id": "6de27d7f",
   "metadata": {},
   "outputs": [],
   "source": [
    "# Дано некоторое распределение оценок в группе за экзамен. Нарисовать\n",
    "# круговую и точечную диаграммы распределения"
   ]
  },
  {
   "cell_type": "code",
   "execution_count": 1,
   "id": "971e619e",
   "metadata": {},
   "outputs": [
    {
     "data": {
      "image/png": "[encoded data removed]",
      "text/plain": [
       "<Figure size 1000x700 with 1 Axes>"
      ]
     },
     "metadata": {},
     "output_type": "display_data"
    },
    {
     "data": {
      "text/plain": [
       "<matplotlib.collections.PathCollection at 0x169da7bd6d0>"
      ]
     },
     "execution_count": 1,
     "metadata": {},
     "output_type": "execute_result"
    },
    {
     "data": {
      "image/png": "[encoded data removed]",
      "text/plain": [
       "<Figure size 640x480 with 1 Axes>"
      ]
     },
     "metadata": {},
     "output_type": "display_data"
    }
   ],
   "source": [
    "from matplotlib import pyplot as plt\n",
    "import numpy as np\n",
    "\n",
    "marks = ['Неуд', 'Удовл', 'Хор', 'Отл']\n",
    "\n",
    "data = [3, 7, 8, 4]\n",
    "fig = plt.figure(figsize=(10,7))\n",
    "plt.pie(data, labels = marks)\n",
    "plt.show()\n",
    "plt.grid()\n",
    "plt.scatter(marks, data)"
   ]
  },
  {
   "cell_type": "markdown",
   "id": "92d6c891",
   "metadata": {},
   "source": [
    "# 4.3.1 Задание"
   ]
  },
  {
   "cell_type": "code",
   "execution_count": 53,
   "id": "c91ee701",
   "metadata": {},
   "outputs": [],
   "source": [
    "# Задайте массив случайных значений из интервала(0; 1).\n",
    "# Рассчитайте средние и медианные значения для массива, сравните\n",
    "# результаты, какие выводы можно сделать о значениях?\n",
    "# Постройте точечную диаграмму рассения полученного ряда."
   ]
  },
  {
   "cell_type": "code",
   "execution_count": 3,
   "id": "5d8aa1ae",
   "metadata": {},
   "outputs": [
    {
     "name": "stdout",
     "output_type": "stream",
     "text": [
      "0.6041911207399543\n",
      "0.6273382769910715\n",
      "[0.54787523 0.46182152 0.94098576 0.84540039 0.57964234 0.70891074\n",
      " 0.0404684  0.2937453  0.94802733 0.67503421]\n",
      "10 10\n"
     ]
    },
    {
     "data": {
      "text/plain": [
       "<matplotlib.collections.PathCollection at 0x1b426d74f10>"
      ]
     },
     "execution_count": 3,
     "metadata": {},
     "output_type": "execute_result"
    },
    {
     "data": {
      "image/png": "[encoded data removed]",
      "text/plain": [
       "<Figure size 640x480 with 1 Axes>"
      ]
     },
     "metadata": {},
     "output_type": "display_data"
    }
   ],
   "source": [
    "from matplotlib import pyplot as plt\n",
    "import numpy as np\n",
    "import random as rand\n",
    "\n",
    "array = np.empty(10, dtype=float)\n",
    "x_coord = ['1', '2', '3', '4', '5', '6', '7', '8', '9', '10']\n",
    "\n",
    "for i in range(10):\n",
    "    array[i] = rand.uniform(0, 1)\n",
    "print(sum(array)/len(array))\n",
    "print(np.median(array))\n",
    "print(array)\n",
    "print(len(x_coord), len(array))\n",
    "plt.grid()\n",
    "plt.scatter(x_coord, array)"
   ]
  },
  {
   "cell_type": "markdown",
   "id": "e26b8a96",
   "metadata": {},
   "source": [
    "# 4.3.2 Задание"
   ]
  },
  {
   "cell_type": "code",
   "execution_count": 124,
   "id": "b6d8aecf",
   "metadata": {},
   "outputs": [],
   "source": [
    "# Дана функция, создать массив из 10 значений функции (x, например, изменяется от 1 до 10).\n",
    "# Выделить срез первой половины массива и построить графики для основного массива –\n",
    "# линейный и для среза – точечный"
   ]
  },
  {
   "cell_type": "code",
   "execution_count": 125,
   "id": "511aa53a",
   "metadata": {},
   "outputs": [
    {
     "name": "stdout",
     "output_type": "stream",
     "text": [
      "[  0.           5.7989175    9.89559083   4.19457227   3.98117678\n",
      "   4.09272906   5.93865315   8.1157002  138.24401825   7.91798452]\n",
      "[0.         5.7989175  9.89559083 4.19457227 3.98117678]\n"
     ]
    },
    {
     "data": {
      "text/plain": [
       "<matplotlib.collections.PathCollection at 0x1b434e6a610>"
      ]
     },
     "execution_count": 125,
     "metadata": {},
     "output_type": "execute_result"
    },
    {
     "data": {
      "image/png": "[encoded data removed]",
      "text/plain": [
       "<Figure size 640x480 with 1 Axes>"
      ]
     },
     "metadata": {},
     "output_type": "display_data"
    }
   ],
   "source": [
    "from matplotlib import pyplot as plt\n",
    "import numpy as np\n",
    "import random as rand\n",
    "import math\n",
    "\n",
    "x_coord = ['1', '2', '3', '4', '5', '6', '7', '8', '9', '10']\n",
    "\n",
    "array = np.empty(10, dtype = float)\n",
    "array[0] = 0\n",
    "for x in range(1, 10):\n",
    "     array[x] = (math.sqrt(1 + (math.exp(math.sqrt(x))) + math.cos(pow(x, 2))))/(np.abs(1-pow(math.sin(x), 3))) + np.log(np.abs(2*x))\n",
    "     \n",
    "x_coord_cut = x_coord[0:5:1]\n",
    "array_cut = array[0:5:1]\n",
    "\n",
    "\n",
    "print(array)\n",
    "print(array_cut)\n",
    "\n",
    "plt.grid()\n",
    "plt.plot(x_coord, array)\n",
    "plt.scatter(x_coord_cut, array_cut)"
   ]
  },
  {
   "cell_type": "markdown",
   "id": "02a95e6c",
   "metadata": {},
   "source": [
    "# 4.3.3 Задание"
   ]
  },
  {
   "cell_type": "code",
   "execution_count": 55,
   "id": "2faf3633",
   "metadata": {},
   "outputs": [],
   "source": [
    "# Дана функция. Построить график на интервале (0, 10) с шагом 1 с заливкой площади и найти эту площадь под ним. \n",
    "# Для вычисления площади воспользуйте функции trapz(), вычисляющей интеграл по правилу трапеции."
   ]
  },
  {
   "cell_type": "code",
   "execution_count": 129,
   "id": "f9bf0a58",
   "metadata": {},
   "outputs": [
    {
     "name": "stdout",
     "output_type": "stream",
     "text": [
      "6.260345875494747\n"
     ]
    },
    {
     "data": {
      "image/png": "[encoded data removed]",
      "text/plain": [
       "<Figure size 640x480 with 1 Axes>"
      ]
     },
     "metadata": {},
     "output_type": "display_data"
    }
   ],
   "source": [
    "from matplotlib import pyplot as plt\n",
    "import numpy as np\n",
    "\n",
    "x = np.arange(0, 10, 1)\n",
    "y = np.abs(np.cos(x*np.exp(np.cos(x) + np.log(x+1))))\n",
    "plt.grid()\n",
    "plt.plot(x, y, c = \"r\")\n",
    "plt.fill_between(x, y)\n",
    "\n",
    "area = np.trapz(y)\n",
    "print(area)"
   ]
  },
  {
   "cell_type": "markdown",
   "id": "f817f12f",
   "metadata": {},
   "source": [
    "# 4.3.4 Задание"
   ]
  },
  {
   "cell_type": "code",
   "execution_count": 56,
   "id": "a0f10532",
   "metadata": {},
   "outputs": [],
   "source": [
    "# Откройте статистические данные по стоимости акций Apple, Microsoft, Google за 12 месяцев 2021 г. Постройте 3 графика на плоскости и оцените их динамику."
   ]
  },
  {
   "cell_type": "code",
   "execution_count": 141,
   "id": "bef42a52",
   "metadata": {},
   "outputs": [
    {
     "data": {
      "text/plain": [
       "<matplotlib.collections.PathCollection at 0x1b436a90e50>"
      ]
     },
     "execution_count": 141,
     "metadata": {},
     "output_type": "execute_result"
    },
    {
     "data": {
      "image/png": "[encoded data removed]",
      "text/plain": [
       "<Figure size 1200x500 with 1 Axes>"
      ]
     },
     "metadata": {},
     "output_type": "display_data"
    }
   ],
   "source": [
    "from matplotlib import pyplot as plt\n",
    "import numpy as np\n",
    "\n",
    "date = ['Январь', 'Февраль', 'Март', 'Апрель', 'Май', 'Июнь', 'Июль', 'Август', 'Сентябрь', 'Октябрь', 'Ноябрь', 'Декабрь']\n",
    "\n",
    "data_google = [1835.74, 2036.86, 2068.63, 2410.12, 2411.56, 2506.32, 2704.42, 2909.24, 2665.31, 2965.41, 2849.04, 2893.59]\n",
    "data_apple = [131.96, 121.26, 122.15, 131.26, 124.61, 136.96, 145.24, 151.83, 141.5, 149.8, 165.3, 177.57]\n",
    "data_microsoft = [231.96, 232.38, 235.77, 252.18, 249.68, 270.9, 284.91, 301.88, 281.92, 331.62, 330.59, 336.32]\n",
    "\n",
    "fig = plt.figure(figsize=(12,5))\n",
    "\n",
    "plt.grid()\n",
    "plt.plot(data_google)\n",
    "plt.scatter(date, data_google)\n",
    "plt.plot(data_apple)\n",
    "plt.scatter(date, data_apple)\n",
    "plt.plot(data_microsoft)\n",
    "plt.scatter(date, data_microsoft)\n"
   ]
  },
  {
   "cell_type": "markdown",
   "id": "2e930b09",
   "metadata": {},
   "source": [
    "# 4.3.5 Задание"
   ]
  },
  {
   "cell_type": "code",
   "execution_count": 57,
   "id": "8e0ed9f8",
   "metadata": {},
   "outputs": [],
   "source": [
    "# Создайте простейший калькулятор, включающий основные действия для двух переменных ′ + ′, ′ − ′, ′ ∙ ′, ′ ÷ ′, а также вычисление следующих функций e^(x+y), sin(x+y), cos(x+y), x^y"
   ]
  },
  {
   "cell_type": "code",
   "execution_count": 146,
   "id": "af720ba8",
   "metadata": {},
   "outputs": [
    {
     "name": "stdout",
     "output_type": "stream",
     "text": [
      "Type 'exit' to exit the program\n",
      "100.0 + 230.4 = 330.40\n",
      "cos(1.0+2.0 = -0.99\n",
      "Wrong operation type!\n",
      "Wrong operation type!\n",
      "Divide by zero\n",
      "10.0 * 2003.0 = 20030.00\n",
      "2.0^4.0 = 16.00\n",
      "e^(34.0+4.0) = 31855931757113756.00\n",
      "Wrong operation type!\n",
      "Wrong operation type!\n",
      "Wrong operation type!\n",
      "Wrong operation type!\n"
     ]
    }
   ],
   "source": [
    "import math\n",
    "print(\"Type 'exit' to exit the program\")\n",
    "\n",
    "while True:\n",
    "    operation = input(\"Input operation: (+, -, *, /, sin, cos, e^(x+y), pow): \")\n",
    "    if operation == \"exit\":\n",
    "        break\n",
    "    if operation and operation in (\"+\", \"-\", \"*\", \"sin\", \"cos\", \"/\", \"e^(x+y)\", \"pow\"):\n",
    "        x = float(input(\"x = \"))\n",
    "        y = float(input(\"y = \"))\n",
    "        if operation == \"+\":\n",
    "            print(f\"{x} + {y} =\", \"%.2f\" % (x+y))\n",
    "        elif operation == \"-\":\n",
    "            print(f\"{x} - {y} =\", \"%.2f\" % (x-y))\n",
    "        elif operation == \"*\":\n",
    "            print(f\"{x} * {y} =\", \"%.2f\" % (x*y))\n",
    "        elif operation == \"/\":\n",
    "            if y == 0:\n",
    "                print(\"Divide by zero\")\n",
    "            else:\n",
    "                print(f\"{x} / {y} =\", \"%.2f\" % (x/y))\n",
    "        elif operation == \"sin\":\n",
    "            print(f\"sin({x}+{y}) =\", \"%.2f\" % (math.sin(x+y)))\n",
    "        elif operation == \"e^(x+y)\":\n",
    "            print(f\"e^({x}+{y}) =\", \"%.2f\" % (math.exp(x+y)))\n",
    "        elif operation == \"cos\":\n",
    "            print(f\"cos({x}+{y}) =\", \"%.2f\" % (math.cos(x+y)))\n",
    "        elif operation == \"pow\":\n",
    "            print(f\"{x}^{y} =\", \"%.2f\" % (pow(x, y)))\n",
    "    else: \n",
    "        print(\"Wrong operation type!\")"
   ]
  }
 ],
 "metadata": {
  "kernelspec": {
   "display_name": "Python 3",
   "language": "python",
   "name": "python3"
  },
  "language_info": {
   "codemirror_mode": {
    "name": "ipython",
    "version": 3
   },
   "file_extension": ".py",
   "mimetype": "text/x-python",
   "name": "python",
   "nbconvert_exporter": "python",
   "pygments_lexer": "ipython3",
   "version": "3.11.1"
  },
  "vscode": {
   "interpreter": {
    "hash": "610798be6602449c118360bb9ca8f3ba63bb8b1d24761574473dfc704217ddb4"
   }
  }
 },
 "nbformat": 4,
 "nbformat_minor": 5
}
