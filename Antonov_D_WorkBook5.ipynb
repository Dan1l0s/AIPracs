{
  "cells": [
    {
      "cell_type": "markdown",
      "metadata": {
        "id": "4gYu6pJTmxsw"
      },
      "source": [
        "# 1.2.1 Пример\n",
        "\n",
        "Необходимо разработать виртуальную модель процесса обучения. В\n",
        "программе должны быть объекты-ученики, учитель, кладезь знаний.\n"
      ]
    },
    {
      "cell_type": "code",
      "execution_count": 1,
      "metadata": {
        "colab": {
          "base_uri": "https://localhost:8080/"
        },
        "id": "a4ERVZ12lfcW",
        "outputId": "0d299cba-37f0-49c7-acc7-39d931aa537a"
      },
      "outputs": [
        {
          "output_type": "stream",
          "name": "stdout",
          "text": [
            "['inheritance']\n",
            "['inheritance', 'class']\n"
          ]
        }
      ],
      "source": [
        "class Data:\n",
        "    def __init__ (self, *info):\n",
        "        self.info = list(info)\n",
        "    def __getitem__(self, i):\n",
        "        return self.info[i]\n",
        "class Teacher:\n",
        "    def teach(se1f, info, *pupil):\n",
        "        for i in pupil:\n",
        "            i.take(info)\n",
        "\n",
        "class Pupil:\n",
        "    def __init__(self):\n",
        "        self.knowledge = []\n",
        "    def take(self, info):\n",
        "        self.knowledge.append(info)\n",
        "\n",
        "lesson = Data('class', 'object','inheritance','polymorphism', 'encapsulation')\n",
        "marIvanna = Teacher()\n",
        "vasy = Pupil()\n",
        "pety = Pupil()\n",
        "marIvanna.teach(lesson[2], vasy, pety)\n",
        "marIvanna.teach(lesson[0], pety)\n",
        "print(vasy.knowledge)\n",
        "print(pety.knowledge)"
      ]
    },
    {
      "cell_type": "markdown",
      "metadata": {
        "id": "zQVA7NKeos4-"
      },
      "source": [
        "# 1.2.2 Пример\n",
        "\n",
        "Напишите программу по следующему описанию. Есть класс \"Воин\". От\n",
        "него создаются два экземпляра-юнита. Каждому устанавливается здоровье\n",
        "в 100 очков. В случайном порядке они бьют друг друга. Тот, кто бьет,\n",
        "здоровья не теряет. У того, кого бьют, оно уменьшается на 20 очков от\n",
        "одного удара. После каждого удара надо выводить сообщение, какой юнит\n",
        "атаковал, и сколько у противника осталось здоровья. Как только у кого-то\n",
        "заканчивается ресурс здоровья, программа завершается сообщением о том,\n",
        "кто одержал победу."
      ]
    },
    {
      "cell_type": "code",
      "execution_count": 4,
      "metadata": {
        "colab": {
          "base_uri": "https://localhost:8080/"
        },
        "id": "6qqbV1Pxot_W",
        "outputId": "a34d952a-e62e-492b-be2c-5ff0bf3d4941"
      },
      "outputs": [
        {
          "name": "stdout",
          "output_type": "stream",
          "text": [
            "Enter 1 to attack. Enter 2 to stop programm:1\n",
            "Warrior2  has attacked\n",
            "(80, ' left')\n",
            "Enter 1 to let some warrior attack:1\n",
            "Warrior2  has attacked\n",
            "(60, ' left')\n",
            "Enter 1 to let some warrior attack:2\n"
          ]
        }
      ],
      "source": [
        "import random\n",
        "class Warrior:\n",
        "    def __init__(self,health):\n",
        "        self.health = health\n",
        "    def hit(self,target,target1):\n",
        "        if target.health > 0:\n",
        "            target.health -= 20\n",
        "        if target1 == warrior1:\n",
        "            target1 = \"Warrior1\"\n",
        "        if target1 == warrior2:\n",
        "            target1 = \"Warrior2\"\n",
        "        print(target1, \" has attacked\")\n",
        "        print((target.health, \" left\"))\n",
        "        if target.health == 0:\n",
        "            print(target1, \" has won\")\n",
        "\n",
        "\n",
        "warrior1 = Warrior(100)\n",
        "warrior2 = Warrior(100)\n",
        "q = int(input(\"Enter 1 to attack. Enter 2 to stop programm:\"))\n",
        "\n",
        "while q != 2:\n",
        "    if q == 1:\n",
        "        j = random.randint(1,3)\n",
        "        if j % 2 == 0:\n",
        "            warrior1.hit(warrior2, warrior1)\n",
        "            q = int(input(\"Enter 1 to let some warrior attack:\"))\n",
        "        else:\n",
        "            warrior2.hit(warrior1, warrior2)\n",
        "            q = int(input(\"Enter 1 to let some warrior attack:\"))\n",
        "    else:\n",
        "        print(\"Wrong input.\")\n",
        "        break\n"
      ]
    },
    {
      "cell_type": "markdown",
      "metadata": {
        "id": "2ZCMucpuqoMa"
      },
      "source": [
        "# 1.2.3 Пример\n",
        "\n",
        "Создайте класс по работе с дробями. В классе должна быть\n",
        "реализована следующая функциональность:\\\n",
        "− сложение дробей;\\\n",
        "− вычитание дробей;\\\n",
        "− умножение дробей;\\\n",
        "− деление дробей.\n"
      ]
    },
    {
      "cell_type": "code",
      "execution_count": 5,
      "metadata": {
        "colab": {
          "base_uri": "https://localhost:8080/"
        },
        "id": "HCeBWS0Lqqq3",
        "outputId": "edbf39f3-909c-4526-f6f7-4ed063dcb5a0"
      },
      "outputs": [
        {
          "output_type": "stream",
          "name": "stdout",
          "text": [
            "5/6\n",
            "5/6\n",
            "1/6\n",
            "1/6\n",
            "3/2\n",
            "13/2\n"
          ]
        }
      ],
      "source": [
        "class Rational:\n",
        "    @staticmethod\n",
        "    def gcd(a,b):\n",
        "        while (b != 0):\n",
        "            (a,b) = (b,a%b)\n",
        "        return a\n",
        "    @staticmethod\n",
        "    def sgn(x):\n",
        "        if x>0:\n",
        "            return 1\n",
        "        elif x <0:\n",
        "            return -1\n",
        "        else:\n",
        "            return 0\n",
        "\n",
        "    def __init__(self, n, d):\n",
        "        if n == 0:\n",
        "            self.num=0\n",
        "            self.den=1\n",
        "        else:\n",
        "            z=self.sgn(n)*self.sgn(d)\n",
        "            n=abs(n)\n",
        "            d=abs(d)\n",
        "            k=self.gcd(n,d)\n",
        "            self.num=z*n//k\n",
        "            self.den=d//k\n",
        "\n",
        "    def __str__(self):\n",
        "        if self.num==0:\n",
        "            return \"0\"\n",
        "        else:\n",
        "            return str(self.num)+\"/\"+str(self.den)\n",
        "    \n",
        "    def __add__(self,o):\n",
        "        n1=self.num\n",
        "        d1=self.den\n",
        "        if type(o)==int:\n",
        "            n2=o\n",
        "            d2=1\n",
        "        else:\n",
        "            n2=o.num\n",
        "            d2=o.den\n",
        "        n=n1*d2+n2*d1\n",
        "        d=d1*d2\n",
        "        return Rational(n,d)\n",
        "    \n",
        "    def __radd__(self,o):\n",
        "        n1=self.num\n",
        "        d1=self.den\n",
        "        if type(o)==int:\n",
        "            n2=o\n",
        "            d2=1\n",
        "        else:\n",
        "            n2=o.num\n",
        "            d2=o.den\n",
        "        n=n1*d2+n2*d1\n",
        "        d=d1*d2\n",
        "        return Rational(n,d)\n",
        "    \n",
        "    def __sub__(self,o):\n",
        "        n1=self.num\n",
        "        d1=self.den\n",
        "        n2=o.num\n",
        "        d2=o.den\n",
        "        n=n1*d2+n2*d1\n",
        "        d=d1*d2\n",
        "        return Rational(n,d)\n",
        "\n",
        "    def __mul__(self,o):\n",
        "        n1=self.num\n",
        "        d1=self.den\n",
        "        n2=o.num\n",
        "        d2=o.den\n",
        "        n=n1*n2\n",
        "        d=d1*d2\n",
        "        return Rational(n,d)\n",
        "    \n",
        "    def __floordiv__(self,o):\n",
        "        n1=self.num\n",
        "        d1=self.den\n",
        "        n2=o.num\n",
        "        d2=o.den\n",
        "        n=n1*d2\n",
        "        d=d1*n2\n",
        "        return Rational(n,d)\n",
        "\n",
        "d1=Rational(1,2)\n",
        "d2=Rational(1,3)\n",
        "d3=d1+d2\n",
        "print(d3)\n",
        "d4=d1-d2\n",
        "print(d4)\n",
        "d5=d1*d2\n",
        "print(d5)\n",
        "d6=d1*d2\n",
        "print(d6)\n",
        "d7=d1//d2\n",
        "print(d7)\n",
        "d8=6+d1\n",
        "print(d8)"
      ]
    },
    {
      "cell_type": "markdown",
      "metadata": {
        "id": "bOZZHcjayON1"
      },
      "source": [
        "# Задание\n",
        "\n",
        "Создайте класс по работе с тригонометрическими функциями. В классе\n",
        "должны быть реализованы функции вычисления:\\\n",
        "− косинуса;\\\n",
        "− синуса;\\\n",
        "− тангенса;\\\n",
        "− арксинуса;\\\n",
        "− арккосинуса;\\\n",
        "− арктангенса;\\\n",
        "− перевода из градусов в радианы."
      ]
    },
    {
      "cell_type": "code",
      "execution_count": 7,
      "metadata": {
        "colab": {
          "base_uri": "https://localhost:8080/"
        },
        "id": "SgSk__x6WE4g",
        "outputId": "ec5fb711-5f21-48f1-f5d9-98a65399e11d"
      },
      "outputs": [
        {
          "output_type": "stream",
          "name": "stdout",
          "text": [
            "Cos Pi/2: 6.123233995736766e-17\n",
            "Sin Pi/2: 1.0\n",
            "Tan Pi/2: 1.633123935319537e+16\n",
            "ArcSin 1: 1.5707963267948966\n",
            "ArcCos 0: 1.5707963267948966\n",
            "ArcTan 0: 0.0\n"
          ]
        }
      ],
      "source": [
        "import math\n",
        "\n",
        "class Trigonometry:\n",
        "\n",
        "    @staticmethod\n",
        "    def cos(x):\n",
        "        return math.cos(x)\n",
        "    \n",
        "    @staticmethod\n",
        "    def sin(x):\n",
        "        return math.sin(x)\n",
        "    \n",
        "    @staticmethod\n",
        "    def tan(x):\n",
        "        return math.tan(x)\n",
        "    \n",
        "    @staticmethod\n",
        "    def asin(x):\n",
        "        return math.asin(x)\n",
        "    \n",
        "    @staticmethod\n",
        "    def acos(x):\n",
        "        return math.acos(x)\n",
        "    \n",
        "    @staticmethod\n",
        "    def atan(x):\n",
        "        return math.atan(x)\n",
        "    \n",
        "    @staticmethod\n",
        "    def deg_to_rad(x):\n",
        "        return math.radians(x)\n",
        "\n",
        "print(\"Cos Pi/2: \", end=\"\")\n",
        "print(Trigonometry.cos(math.pi/2))\n",
        "\n",
        "print(\"Sin Pi/2: \", end=\"\")\n",
        "print(Trigonometry.sin(math.pi/2))\n",
        "\n",
        "print(\"Tan Pi/2: \", end=\"\")\n",
        "print(Trigonometry.tan(math.pi/2))\n",
        "\n",
        "print(\"ArcSin 1: \", end=\"\")\n",
        "print(Trigonometry.asin(1))\n",
        "\n",
        "print(\"ArcCos 0: \", end=\"\")\n",
        "print(Trigonometry.acos(0))\n",
        "\n",
        "print(\"ArcTan 0: \", end=\"\")\n",
        "print(Trigonometry.atan(0))"
      ]
    },
    {
      "cell_type": "markdown",
      "metadata": {
        "id": "dB2JMBMkXMZ-"
      },
      "source": [
        "# 1.2.1 Пример\n",
        "\n",
        "Определите класс бинарного дерева и задайте его объекты с отдельным\n",
        "атрибутом для каждого из потомков."
      ]
    },
    {
      "cell_type": "code",
      "execution_count": 8,
      "metadata": {
        "colab": {
          "base_uri": "https://localhost:8080/",
          "height": 35
        },
        "id": "LK5BNGnGXUTM",
        "outputId": "68d4ce6b-f8f6-44d5-e49c-030458dacbf2"
      },
      "outputs": [
        {
          "output_type": "execute_result",
          "data": {
            "text/plain": [
              "'c'"
            ],
            "application/vnd.google.colaboratory.intrinsic+json": {
              "type": "string"
            }
          },
          "metadata": {},
          "execution_count": 8
        }
      ],
      "source": [
        "class Tree:\n",
        "    def __init__(self, left, right):\n",
        "        self.left = left\n",
        "        self.right = right\n",
        "\n",
        "t = Tree(Tree(\"a\",\"b\"),Tree(\"c\",\"d\"))\n",
        "t.right.left"
      ]
    },
    {
      "cell_type": "markdown",
      "metadata": {
        "id": "p5RKcen_XiDB"
      },
      "source": [
        "# 1.2.2 Пример\n",
        "\n"
      ]
    },
    {
      "cell_type": "code",
      "execution_count": 9,
      "metadata": {
        "colab": {
          "base_uri": "https://localhost:8080/",
          "height": 35
        },
        "id": "w7g45xzLXn_6",
        "outputId": "1d14585b-bf70-41cc-a667-4289f56dc451"
      },
      "outputs": [
        {
          "output_type": "execute_result",
          "data": {
            "text/plain": [
              "'c'"
            ],
            "application/vnd.google.colaboratory.intrinsic+json": {
              "type": "string"
            }
          },
          "metadata": {},
          "execution_count": 9
        }
      ],
      "source": [
        "class Tree:\n",
        "    def __init__(self,kids, next=None):\n",
        "        self.kids = self.val = kids\n",
        "        self.next = next\n",
        "        \n",
        "t = Tree(Tree(\"a\",Tree(\"b\",Tree(\"c\",Tree(\"d\")))))\n",
        "t.kids.next.next.val"
      ]
    },
    {
      "cell_type": "markdown",
      "metadata": {
        "id": "wJCCCW-va49I"
      },
      "source": [
        "# Задание\n",
        "\n",
        "Представьте дерево показанное на рисунке с использованием списка из\n",
        "списков. Выведите на печать корень дерева, а также его левое и правое\n",
        "поддеревья."
      ]
    },
    {
      "cell_type": "code",
      "execution_count": 16,
      "metadata": {
        "colab": {
          "base_uri": "https://localhost:8080/"
        },
        "id": "ZChjSH61bSzb",
        "outputId": "f1dc4272-25c5-4c97-c39b-00181b3c4050"
      },
      "outputs": [
        {
          "output_type": "stream",
          "name": "stdout",
          "text": [
            "  d\n",
            " b\n",
            "  e\n",
            "a\n",
            " c\n",
            "  f\n"
          ]
        }
      ],
      "source": [
        "class Tree:\n",
        "    def __init__(self, data, left=None, right=None):\n",
        "        self.left = left\n",
        "        self.right = right\n",
        "        self.data = data\n",
        "t = Tree(\"a\", Tree(\"b\", Tree(\"d\"), Tree(\"e\")), Tree(\"c\", Tree(\"f\")))\n",
        "\n",
        "\n",
        "print(\" \", t.left.left.data)\n",
        "print(\"\", t.left.data)\n",
        "print(\" \", t.left.right.data)\n",
        "print(t.data)\n",
        "print(\"\", t.right.data)\n",
        "print(\" \", t.right.left.data)"
      ]
    },
    {
      "cell_type": "markdown",
      "metadata": {
        "id": "sGbGI7wImE-i"
      },
      "source": [
        "# Задание"
      ]
    },
    {
      "cell_type": "markdown",
      "metadata": {
        "id": "Hz5lc8ftmGPV"
      },
      "source": [
        "Дан класс, описывающий бинарное дерево.\\\n",
        "Реализуйте в классе функцию для вставки нового элемента по правилам.\n",
        "\n",
        "*   Левое поддерево узла содержит только узлы со значениями меньше,\n",
        "чем значение в узле.\n",
        "*   Правое поддерево узла содержит только узлы со значениями больше,\n",
        "чем значение в узле.\n",
        "*   Каждое из левого и правого поддеревьев также должно быть\n",
        "бинарным деревом поиска.\n",
        "*   Не должно быть повторяющихся узлов.\n"
      ]
    },
    {
      "cell_type": "code",
      "execution_count": 19,
      "metadata": {
        "colab": {
          "base_uri": "https://localhost:8080/"
        },
        "id": "xskwC9rPmuW-",
        "outputId": "18ba9f4a-bb71-4c49-937d-d2dea62f3b91"
      },
      "outputs": [
        {
          "output_type": "stream",
          "name": "stdout",
          "text": [
            "   9\n",
            "       7\n",
            "     6\n",
            " 5\n",
            "       5\n",
            "     4\n",
            "         3\n",
            "       2\n",
            "   1\n"
          ]
        }
      ],
      "source": [
        "class Tree:\n",
        "    def __init__(self,data):\n",
        "        self.left = None\n",
        "        self.right = None\n",
        "        self.data = data\n",
        "\n",
        "    def add(self, data):\n",
        "        if data > self.data:\n",
        "            if self.right is None:\n",
        "                self.right = Tree(data)\n",
        "            else:\n",
        "                self.right.add(data)\n",
        "        else:\n",
        "            if self.left is None:\n",
        "                self.left = Tree(data)\n",
        "            else:\n",
        "                self.left.add(data)\n",
        "\n",
        "    def Print_tree(self, depth=0):\n",
        "        if self.right:\n",
        "            self.right.Print_tree(depth+1)\n",
        "\n",
        "        print(\" \" * depth * 2, self.data)\n",
        "\n",
        "        if self.left:\n",
        "            self.left.Print_tree(depth+1)\n",
        "\n",
        "tree = Tree(5)\n",
        "\n",
        "tree.add(1)\n",
        "tree.add(9)\n",
        "tree.add(4)\n",
        "tree.add(6)\n",
        "tree.add(2)\n",
        "tree.add(3)\n",
        "tree.add(5)\n",
        "tree.add(7)\n",
        "\n",
        "\n",
        "tree.Print_tree()"
      ]
    },
    {
      "cell_type": "markdown",
      "metadata": {
        "id": "sSgaYcGCpAtz"
      },
      "source": [
        "#  1.3.1 Пример\n",
        "\n",
        "Построим дерево решений для задачи классификации, для этого, построим\n",
        "границу решения для каждого класса. В качестве данных будем\n",
        "использовать уже знакомый нам и встроенный в библиотеку sklearn набор\n",
        "данных ирисов Фишера. Импортируем библиотеки, набор данных и\n",
        "посмотрим его характеристики.\n"
      ]
    },
    {
      "cell_type": "code",
      "execution_count": 20,
      "metadata": {
        "colab": {
          "base_uri": "https://localhost:8080/",
          "height": 424
        },
        "id": "F3NGaw7SpOzO",
        "outputId": "d18887df-c838-4fea-8248-eacbe0890d4e"
      },
      "outputs": [
        {
          "output_type": "execute_result",
          "data": {
            "text/plain": [
              "     sepal_length  sepal_width  petal_length  petal_width    species\n",
              "0             5.1          3.5           1.4          0.2     setosa\n",
              "1             4.9          3.0           1.4          0.2     setosa\n",
              "2             4.7          3.2           1.3          0.2     setosa\n",
              "3             4.6          3.1           1.5          0.2     setosa\n",
              "4             5.0          3.6           1.4          0.2     setosa\n",
              "..            ...          ...           ...          ...        ...\n",
              "145           6.7          3.0           5.2          2.3  virginica\n",
              "146           6.3          2.5           5.0          1.9  virginica\n",
              "147           6.5          3.0           5.2          2.0  virginica\n",
              "148           6.2          3.4           5.4          2.3  virginica\n",
              "149           5.9          3.0           5.1          1.8  virginica\n",
              "\n",
              "[150 rows x 5 columns]"
            ],
            "text/html": [
              "\n",
              "  <div id=\"df-c879f10d-8415-4136-b394-6081e27124f8\">\n",
              "    <div class=\"colab-df-container\">\n",
              "      <div>\n",
              "<style scoped>\n",
              "    .dataframe tbody tr th:only-of-type {\n",
              "        vertical-align: middle;\n",
              "    }\n",
              "\n",
              "    .dataframe tbody tr th {\n",
              "        vertical-align: top;\n",
              "    }\n",
              "\n",
              "    .dataframe thead th {\n",
              "        text-align: right;\n",
              "    }\n",
              "</style>\n",
              "<table border=\"1\" class=\"dataframe\">\n",
              "  <thead>\n",
              "    <tr style=\"text-align: right;\">\n",
              "      <th></th>\n",
              "      <th>sepal_length</th>\n",
              "      <th>sepal_width</th>\n",
              "      <th>petal_length</th>\n",
              "      <th>petal_width</th>\n",
              "      <th>species</th>\n",
              "    </tr>\n",
              "  </thead>\n",
              "  <tbody>\n",
              "    <tr>\n",
              "      <th>0</th>\n",
              "      <td>5.1</td>\n",
              "      <td>3.5</td>\n",
              "      <td>1.4</td>\n",
              "      <td>0.2</td>\n",
              "      <td>setosa</td>\n",
              "    </tr>\n",
              "    <tr>\n",
              "      <th>1</th>\n",
              "      <td>4.9</td>\n",
              "      <td>3.0</td>\n",
              "      <td>1.4</td>\n",
              "      <td>0.2</td>\n",
              "      <td>setosa</td>\n",
              "    </tr>\n",
              "    <tr>\n",
              "      <th>2</th>\n",
              "      <td>4.7</td>\n",
              "      <td>3.2</td>\n",
              "      <td>1.3</td>\n",
              "      <td>0.2</td>\n",
              "      <td>setosa</td>\n",
              "    </tr>\n",
              "    <tr>\n",
              "      <th>3</th>\n",
              "      <td>4.6</td>\n",
              "      <td>3.1</td>\n",
              "      <td>1.5</td>\n",
              "      <td>0.2</td>\n",
              "      <td>setosa</td>\n",
              "    </tr>\n",
              "    <tr>\n",
              "      <th>4</th>\n",
              "      <td>5.0</td>\n",
              "      <td>3.6</td>\n",
              "      <td>1.4</td>\n",
              "      <td>0.2</td>\n",
              "      <td>setosa</td>\n",
              "    </tr>\n",
              "    <tr>\n",
              "      <th>...</th>\n",
              "      <td>...</td>\n",
              "      <td>...</td>\n",
              "      <td>...</td>\n",
              "      <td>...</td>\n",
              "      <td>...</td>\n",
              "    </tr>\n",
              "    <tr>\n",
              "      <th>145</th>\n",
              "      <td>6.7</td>\n",
              "      <td>3.0</td>\n",
              "      <td>5.2</td>\n",
              "      <td>2.3</td>\n",
              "      <td>virginica</td>\n",
              "    </tr>\n",
              "    <tr>\n",
              "      <th>146</th>\n",
              "      <td>6.3</td>\n",
              "      <td>2.5</td>\n",
              "      <td>5.0</td>\n",
              "      <td>1.9</td>\n",
              "      <td>virginica</td>\n",
              "    </tr>\n",
              "    <tr>\n",
              "      <th>147</th>\n",
              "      <td>6.5</td>\n",
              "      <td>3.0</td>\n",
              "      <td>5.2</td>\n",
              "      <td>2.0</td>\n",
              "      <td>virginica</td>\n",
              "    </tr>\n",
              "    <tr>\n",
              "      <th>148</th>\n",
              "      <td>6.2</td>\n",
              "      <td>3.4</td>\n",
              "      <td>5.4</td>\n",
              "      <td>2.3</td>\n",
              "      <td>virginica</td>\n",
              "    </tr>\n",
              "    <tr>\n",
              "      <th>149</th>\n",
              "      <td>5.9</td>\n",
              "      <td>3.0</td>\n",
              "      <td>5.1</td>\n",
              "      <td>1.8</td>\n",
              "      <td>virginica</td>\n",
              "    </tr>\n",
              "  </tbody>\n",
              "</table>\n",
              "<p>150 rows × 5 columns</p>\n",
              "</div>\n",
              "      <button class=\"colab-df-convert\" onclick=\"convertToInteractive('df-c879f10d-8415-4136-b394-6081e27124f8')\"\n",
              "              title=\"Convert this dataframe to an interactive table.\"\n",
              "              style=\"display:none;\">\n",
              "        \n",
              "  <svg xmlns=\"http://www.w3.org/2000/svg\" height=\"24px\"viewBox=\"0 0 24 24\"\n",
              "       width=\"24px\">\n",
              "    <path d=\"M0 0h24v24H0V0z\" fill=\"none\"/>\n",
              "    <path d=\"M18.56 5.44l.94 2.06.94-2.06 2.06-.94-2.06-.94-.94-2.06-.94 2.06-2.06.94zm-11 1L8.5 8.5l.94-2.06 2.06-.94-2.06-.94L8.5 2.5l-.94 2.06-2.06.94zm10 10l.94 2.06.94-2.06 2.06-.94-2.06-.94-.94-2.06-.94 2.06-2.06.94z\"/><path d=\"M17.41 7.96l-1.37-1.37c-.4-.4-.92-.59-1.43-.59-.52 0-1.04.2-1.43.59L10.3 9.45l-7.72 7.72c-.78.78-.78 2.05 0 2.83L4 21.41c.39.39.9.59 1.41.59.51 0 1.02-.2 1.41-.59l7.78-7.78 2.81-2.81c.8-.78.8-2.07 0-2.86zM5.41 20L4 18.59l7.72-7.72 1.47 1.35L5.41 20z\"/>\n",
              "  </svg>\n",
              "      </button>\n",
              "      \n",
              "  <style>\n",
              "    .colab-df-container {\n",
              "      display:flex;\n",
              "      flex-wrap:wrap;\n",
              "      gap: 12px;\n",
              "    }\n",
              "\n",
              "    .colab-df-convert {\n",
              "      background-color: #E8F0FE;\n",
              "      border: none;\n",
              "      border-radius: 50%;\n",
              "      cursor: pointer;\n",
              "      display: none;\n",
              "      fill: #1967D2;\n",
              "      height: 32px;\n",
              "      padding: 0 0 0 0;\n",
              "      width: 32px;\n",
              "    }\n",
              "\n",
              "    .colab-df-convert:hover {\n",
              "      background-color: #E2EBFA;\n",
              "      box-shadow: 0px 1px 2px rgba(60, 64, 67, 0.3), 0px 1px 3px 1px rgba(60, 64, 67, 0.15);\n",
              "      fill: #174EA6;\n",
              "    }\n",
              "\n",
              "    [theme=dark] .colab-df-convert {\n",
              "      background-color: #3B4455;\n",
              "      fill: #D2E3FC;\n",
              "    }\n",
              "\n",
              "    [theme=dark] .colab-df-convert:hover {\n",
              "      background-color: #434B5C;\n",
              "      box-shadow: 0px 1px 3px 1px rgba(0, 0, 0, 0.15);\n",
              "      filter: drop-shadow(0px 1px 2px rgba(0, 0, 0, 0.3));\n",
              "      fill: #FFFFFF;\n",
              "    }\n",
              "  </style>\n",
              "\n",
              "      <script>\n",
              "        const buttonEl =\n",
              "          document.querySelector('#df-c879f10d-8415-4136-b394-6081e27124f8 button.colab-df-convert');\n",
              "        buttonEl.style.display =\n",
              "          google.colab.kernel.accessAllowed ? 'block' : 'none';\n",
              "\n",
              "        async function convertToInteractive(key) {\n",
              "          const element = document.querySelector('#df-c879f10d-8415-4136-b394-6081e27124f8');\n",
              "          const dataTable =\n",
              "            await google.colab.kernel.invokeFunction('convertToInteractive',\n",
              "                                                     [key], {});\n",
              "          if (!dataTable) return;\n",
              "\n",
              "          const docLinkHtml = 'Like what you see? Visit the ' +\n",
              "            '<a target=\"_blank\" href=https://colab.research.google.com/notebooks/data_table.ipynb>data table notebook</a>'\n",
              "            + ' to learn more about interactive tables.';\n",
              "          element.innerHTML = '';\n",
              "          dataTable['output_type'] = 'display_data';\n",
              "          await google.colab.output.renderOutput(dataTable, element);\n",
              "          const docLink = document.createElement('div');\n",
              "          docLink.innerHTML = docLinkHtml;\n",
              "          element.appendChild(docLink);\n",
              "        }\n",
              "      </script>\n",
              "    </div>\n",
              "  </div>\n",
              "  "
            ]
          },
          "metadata": {},
          "execution_count": 20
        }
      ],
      "source": [
        "import pandas as pd\n",
        "import numpy as np\n",
        "import seaborn as sns\n",
        "import matplotlib.pyplot as plt\n",
        "dataset = sns.load_dataset(\"iris\")\n",
        "dataset"
      ]
    },
    {
      "cell_type": "code",
      "execution_count": 21,
      "metadata": {
        "colab": {
          "base_uri": "https://localhost:8080/"
        },
        "id": "BgNWD_a_plcf",
        "outputId": "86d2ddd7-a13b-484d-bbe3-4ded1f1b0f1d"
      },
      "outputs": [
        {
          "output_type": "execute_result",
          "data": {
            "text/plain": [
              "(150, 5)"
            ]
          },
          "metadata": {},
          "execution_count": 21
        }
      ],
      "source": [
        "dataset.shape"
      ]
    },
    {
      "cell_type": "code",
      "execution_count": 22,
      "metadata": {
        "colab": {
          "base_uri": "https://localhost:8080/",
          "height": 206
        },
        "id": "Mrxe2phVpx2t",
        "outputId": "46ec4fad-dc94-43f8-bef5-b231b60f7cff"
      },
      "outputs": [
        {
          "output_type": "execute_result",
          "data": {
            "text/plain": [
              "   sepal_length  sepal_width  petal_length  petal_width species\n",
              "0           5.1          3.5           1.4          0.2  setosa\n",
              "1           4.9          3.0           1.4          0.2  setosa\n",
              "2           4.7          3.2           1.3          0.2  setosa\n",
              "3           4.6          3.1           1.5          0.2  setosa\n",
              "4           5.0          3.6           1.4          0.2  setosa"
            ],
            "text/html": [
              "\n",
              "  <div id=\"df-99eb00bc-70a3-454e-9820-798660346f4d\">\n",
              "    <div class=\"colab-df-container\">\n",
              "      <div>\n",
              "<style scoped>\n",
              "    .dataframe tbody tr th:only-of-type {\n",
              "        vertical-align: middle;\n",
              "    }\n",
              "\n",
              "    .dataframe tbody tr th {\n",
              "        vertical-align: top;\n",
              "    }\n",
              "\n",
              "    .dataframe thead th {\n",
              "        text-align: right;\n",
              "    }\n",
              "</style>\n",
              "<table border=\"1\" class=\"dataframe\">\n",
              "  <thead>\n",
              "    <tr style=\"text-align: right;\">\n",
              "      <th></th>\n",
              "      <th>sepal_length</th>\n",
              "      <th>sepal_width</th>\n",
              "      <th>petal_length</th>\n",
              "      <th>petal_width</th>\n",
              "      <th>species</th>\n",
              "    </tr>\n",
              "  </thead>\n",
              "  <tbody>\n",
              "    <tr>\n",
              "      <th>0</th>\n",
              "      <td>5.1</td>\n",
              "      <td>3.5</td>\n",
              "      <td>1.4</td>\n",
              "      <td>0.2</td>\n",
              "      <td>setosa</td>\n",
              "    </tr>\n",
              "    <tr>\n",
              "      <th>1</th>\n",
              "      <td>4.9</td>\n",
              "      <td>3.0</td>\n",
              "      <td>1.4</td>\n",
              "      <td>0.2</td>\n",
              "      <td>setosa</td>\n",
              "    </tr>\n",
              "    <tr>\n",
              "      <th>2</th>\n",
              "      <td>4.7</td>\n",
              "      <td>3.2</td>\n",
              "      <td>1.3</td>\n",
              "      <td>0.2</td>\n",
              "      <td>setosa</td>\n",
              "    </tr>\n",
              "    <tr>\n",
              "      <th>3</th>\n",
              "      <td>4.6</td>\n",
              "      <td>3.1</td>\n",
              "      <td>1.5</td>\n",
              "      <td>0.2</td>\n",
              "      <td>setosa</td>\n",
              "    </tr>\n",
              "    <tr>\n",
              "      <th>4</th>\n",
              "      <td>5.0</td>\n",
              "      <td>3.6</td>\n",
              "      <td>1.4</td>\n",
              "      <td>0.2</td>\n",
              "      <td>setosa</td>\n",
              "    </tr>\n",
              "  </tbody>\n",
              "</table>\n",
              "</div>\n",
              "      <button class=\"colab-df-convert\" onclick=\"convertToInteractive('df-99eb00bc-70a3-454e-9820-798660346f4d')\"\n",
              "              title=\"Convert this dataframe to an interactive table.\"\n",
              "              style=\"display:none;\">\n",
              "        \n",
              "  <svg xmlns=\"http://www.w3.org/2000/svg\" height=\"24px\"viewBox=\"0 0 24 24\"\n",
              "       width=\"24px\">\n",
              "    <path d=\"M0 0h24v24H0V0z\" fill=\"none\"/>\n",
              "    <path d=\"M18.56 5.44l.94 2.06.94-2.06 2.06-.94-2.06-.94-.94-2.06-.94 2.06-2.06.94zm-11 1L8.5 8.5l.94-2.06 2.06-.94-2.06-.94L8.5 2.5l-.94 2.06-2.06.94zm10 10l.94 2.06.94-2.06 2.06-.94-2.06-.94-.94-2.06-.94 2.06-2.06.94z\"/><path d=\"M17.41 7.96l-1.37-1.37c-.4-.4-.92-.59-1.43-.59-.52 0-1.04.2-1.43.59L10.3 9.45l-7.72 7.72c-.78.78-.78 2.05 0 2.83L4 21.41c.39.39.9.59 1.41.59.51 0 1.02-.2 1.41-.59l7.78-7.78 2.81-2.81c.8-.78.8-2.07 0-2.86zM5.41 20L4 18.59l7.72-7.72 1.47 1.35L5.41 20z\"/>\n",
              "  </svg>\n",
              "      </button>\n",
              "      \n",
              "  <style>\n",
              "    .colab-df-container {\n",
              "      display:flex;\n",
              "      flex-wrap:wrap;\n",
              "      gap: 12px;\n",
              "    }\n",
              "\n",
              "    .colab-df-convert {\n",
              "      background-color: #E8F0FE;\n",
              "      border: none;\n",
              "      border-radius: 50%;\n",
              "      cursor: pointer;\n",
              "      display: none;\n",
              "      fill: #1967D2;\n",
              "      height: 32px;\n",
              "      padding: 0 0 0 0;\n",
              "      width: 32px;\n",
              "    }\n",
              "\n",
              "    .colab-df-convert:hover {\n",
              "      background-color: #E2EBFA;\n",
              "      box-shadow: 0px 1px 2px rgba(60, 64, 67, 0.3), 0px 1px 3px 1px rgba(60, 64, 67, 0.15);\n",
              "      fill: #174EA6;\n",
              "    }\n",
              "\n",
              "    [theme=dark] .colab-df-convert {\n",
              "      background-color: #3B4455;\n",
              "      fill: #D2E3FC;\n",
              "    }\n",
              "\n",
              "    [theme=dark] .colab-df-convert:hover {\n",
              "      background-color: #434B5C;\n",
              "      box-shadow: 0px 1px 3px 1px rgba(0, 0, 0, 0.15);\n",
              "      filter: drop-shadow(0px 1px 2px rgba(0, 0, 0, 0.3));\n",
              "      fill: #FFFFFF;\n",
              "    }\n",
              "  </style>\n",
              "\n",
              "      <script>\n",
              "        const buttonEl =\n",
              "          document.querySelector('#df-99eb00bc-70a3-454e-9820-798660346f4d button.colab-df-convert');\n",
              "        buttonEl.style.display =\n",
              "          google.colab.kernel.accessAllowed ? 'block' : 'none';\n",
              "\n",
              "        async function convertToInteractive(key) {\n",
              "          const element = document.querySelector('#df-99eb00bc-70a3-454e-9820-798660346f4d');\n",
              "          const dataTable =\n",
              "            await google.colab.kernel.invokeFunction('convertToInteractive',\n",
              "                                                     [key], {});\n",
              "          if (!dataTable) return;\n",
              "\n",
              "          const docLinkHtml = 'Like what you see? Visit the ' +\n",
              "            '<a target=\"_blank\" href=https://colab.research.google.com/notebooks/data_table.ipynb>data table notebook</a>'\n",
              "            + ' to learn more about interactive tables.';\n",
              "          element.innerHTML = '';\n",
              "          dataTable['output_type'] = 'display_data';\n",
              "          await google.colab.output.renderOutput(dataTable, element);\n",
              "          const docLink = document.createElement('div');\n",
              "          docLink.innerHTML = docLinkHtml;\n",
              "          element.appendChild(docLink);\n",
              "        }\n",
              "      </script>\n",
              "    </div>\n",
              "  </div>\n",
              "  "
            ]
          },
          "metadata": {},
          "execution_count": 22
        }
      ],
      "source": [
        "dataset.head()"
      ]
    },
    {
      "cell_type": "code",
      "execution_count": 23,
      "metadata": {
        "colab": {
          "base_uri": "https://localhost:8080/"
        },
        "id": "7jMVUTQ_qD_b",
        "outputId": "e4212068-61bd-47e7-abc6-b84868f5b4fb"
      },
      "outputs": [
        {
          "output_type": "execute_result",
          "data": {
            "text/plain": [
              "((120, 4), (30, 4), (120,), (30,))"
            ]
          },
          "metadata": {},
          "execution_count": 23
        }
      ],
      "source": [
        "from sklearn.model_selection import train_test_split\n",
        "\n",
        "X_train, X_test, y_train, y_test = train_test_split(\n",
        "dataset.iloc[:, :-1],\n",
        "dataset.iloc[:,-1],\n",
        "test_size = 0.2\n",
        ")\n",
        "X_train.shape, X_test.shape, y_train.shape, y_test.shape"
      ]
    },
    {
      "cell_type": "code",
      "execution_count": 24,
      "metadata": {
        "colab": {
          "base_uri": "https://localhost:8080/",
          "height": 206
        },
        "id": "wvisoIYbrfOu",
        "outputId": "7aebbf46-9a3b-4eb7-d883-75ab4c29c25a"
      },
      "outputs": [
        {
          "output_type": "execute_result",
          "data": {
            "text/plain": [
              "     sepal_length  sepal_width  petal_length  petal_width\n",
              "77            6.7          3.0           5.0          1.7\n",
              "66            5.6          3.0           4.5          1.5\n",
              "117           7.7          3.8           6.7          2.2\n",
              "5             5.4          3.9           1.7          0.4\n",
              "96            5.7          2.9           4.2          1.3"
            ],
            "text/html": [
              "\n",
              "  <div id=\"df-4c1b068a-5678-46aa-b9d0-02d79f789a39\">\n",
              "    <div class=\"colab-df-container\">\n",
              "      <div>\n",
              "<style scoped>\n",
              "    .dataframe tbody tr th:only-of-type {\n",
              "        vertical-align: middle;\n",
              "    }\n",
              "\n",
              "    .dataframe tbody tr th {\n",
              "        vertical-align: top;\n",
              "    }\n",
              "\n",
              "    .dataframe thead th {\n",
              "        text-align: right;\n",
              "    }\n",
              "</style>\n",
              "<table border=\"1\" class=\"dataframe\">\n",
              "  <thead>\n",
              "    <tr style=\"text-align: right;\">\n",
              "      <th></th>\n",
              "      <th>sepal_length</th>\n",
              "      <th>sepal_width</th>\n",
              "      <th>petal_length</th>\n",
              "      <th>petal_width</th>\n",
              "    </tr>\n",
              "  </thead>\n",
              "  <tbody>\n",
              "    <tr>\n",
              "      <th>77</th>\n",
              "      <td>6.7</td>\n",
              "      <td>3.0</td>\n",
              "      <td>5.0</td>\n",
              "      <td>1.7</td>\n",
              "    </tr>\n",
              "    <tr>\n",
              "      <th>66</th>\n",
              "      <td>5.6</td>\n",
              "      <td>3.0</td>\n",
              "      <td>4.5</td>\n",
              "      <td>1.5</td>\n",
              "    </tr>\n",
              "    <tr>\n",
              "      <th>117</th>\n",
              "      <td>7.7</td>\n",
              "      <td>3.8</td>\n",
              "      <td>6.7</td>\n",
              "      <td>2.2</td>\n",
              "    </tr>\n",
              "    <tr>\n",
              "      <th>5</th>\n",
              "      <td>5.4</td>\n",
              "      <td>3.9</td>\n",
              "      <td>1.7</td>\n",
              "      <td>0.4</td>\n",
              "    </tr>\n",
              "    <tr>\n",
              "      <th>96</th>\n",
              "      <td>5.7</td>\n",
              "      <td>2.9</td>\n",
              "      <td>4.2</td>\n",
              "      <td>1.3</td>\n",
              "    </tr>\n",
              "  </tbody>\n",
              "</table>\n",
              "</div>\n",
              "      <button class=\"colab-df-convert\" onclick=\"convertToInteractive('df-4c1b068a-5678-46aa-b9d0-02d79f789a39')\"\n",
              "              title=\"Convert this dataframe to an interactive table.\"\n",
              "              style=\"display:none;\">\n",
              "        \n",
              "  <svg xmlns=\"http://www.w3.org/2000/svg\" height=\"24px\"viewBox=\"0 0 24 24\"\n",
              "       width=\"24px\">\n",
              "    <path d=\"M0 0h24v24H0V0z\" fill=\"none\"/>\n",
              "    <path d=\"M18.56 5.44l.94 2.06.94-2.06 2.06-.94-2.06-.94-.94-2.06-.94 2.06-2.06.94zm-11 1L8.5 8.5l.94-2.06 2.06-.94-2.06-.94L8.5 2.5l-.94 2.06-2.06.94zm10 10l.94 2.06.94-2.06 2.06-.94-2.06-.94-.94-2.06-.94 2.06-2.06.94z\"/><path d=\"M17.41 7.96l-1.37-1.37c-.4-.4-.92-.59-1.43-.59-.52 0-1.04.2-1.43.59L10.3 9.45l-7.72 7.72c-.78.78-.78 2.05 0 2.83L4 21.41c.39.39.9.59 1.41.59.51 0 1.02-.2 1.41-.59l7.78-7.78 2.81-2.81c.8-.78.8-2.07 0-2.86zM5.41 20L4 18.59l7.72-7.72 1.47 1.35L5.41 20z\"/>\n",
              "  </svg>\n",
              "      </button>\n",
              "      \n",
              "  <style>\n",
              "    .colab-df-container {\n",
              "      display:flex;\n",
              "      flex-wrap:wrap;\n",
              "      gap: 12px;\n",
              "    }\n",
              "\n",
              "    .colab-df-convert {\n",
              "      background-color: #E8F0FE;\n",
              "      border: none;\n",
              "      border-radius: 50%;\n",
              "      cursor: pointer;\n",
              "      display: none;\n",
              "      fill: #1967D2;\n",
              "      height: 32px;\n",
              "      padding: 0 0 0 0;\n",
              "      width: 32px;\n",
              "    }\n",
              "\n",
              "    .colab-df-convert:hover {\n",
              "      background-color: #E2EBFA;\n",
              "      box-shadow: 0px 1px 2px rgba(60, 64, 67, 0.3), 0px 1px 3px 1px rgba(60, 64, 67, 0.15);\n",
              "      fill: #174EA6;\n",
              "    }\n",
              "\n",
              "    [theme=dark] .colab-df-convert {\n",
              "      background-color: #3B4455;\n",
              "      fill: #D2E3FC;\n",
              "    }\n",
              "\n",
              "    [theme=dark] .colab-df-convert:hover {\n",
              "      background-color: #434B5C;\n",
              "      box-shadow: 0px 1px 3px 1px rgba(0, 0, 0, 0.15);\n",
              "      filter: drop-shadow(0px 1px 2px rgba(0, 0, 0, 0.3));\n",
              "      fill: #FFFFFF;\n",
              "    }\n",
              "  </style>\n",
              "\n",
              "      <script>\n",
              "        const buttonEl =\n",
              "          document.querySelector('#df-4c1b068a-5678-46aa-b9d0-02d79f789a39 button.colab-df-convert');\n",
              "        buttonEl.style.display =\n",
              "          google.colab.kernel.accessAllowed ? 'block' : 'none';\n",
              "\n",
              "        async function convertToInteractive(key) {\n",
              "          const element = document.querySelector('#df-4c1b068a-5678-46aa-b9d0-02d79f789a39');\n",
              "          const dataTable =\n",
              "            await google.colab.kernel.invokeFunction('convertToInteractive',\n",
              "                                                     [key], {});\n",
              "          if (!dataTable) return;\n",
              "\n",
              "          const docLinkHtml = 'Like what you see? Visit the ' +\n",
              "            '<a target=\"_blank\" href=https://colab.research.google.com/notebooks/data_table.ipynb>data table notebook</a>'\n",
              "            + ' to learn more about interactive tables.';\n",
              "          element.innerHTML = '';\n",
              "          dataTable['output_type'] = 'display_data';\n",
              "          await google.colab.output.renderOutput(dataTable, element);\n",
              "          const docLink = document.createElement('div');\n",
              "          docLink.innerHTML = docLinkHtml;\n",
              "          element.appendChild(docLink);\n",
              "        }\n",
              "      </script>\n",
              "    </div>\n",
              "  </div>\n",
              "  "
            ]
          },
          "metadata": {},
          "execution_count": 24
        }
      ],
      "source": [
        "X_train.head()"
      ]
    },
    {
      "cell_type": "code",
      "execution_count": 25,
      "metadata": {
        "colab": {
          "base_uri": "https://localhost:8080/"
        },
        "id": "3VtpKecnrnNE",
        "outputId": "a87a4a4b-1b18-4b21-d5aa-adf7a53c4baf"
      },
      "outputs": [
        {
          "output_type": "execute_result",
          "data": {
            "text/plain": [
              "77     versicolor\n",
              "66     versicolor\n",
              "117     virginica\n",
              "5          setosa\n",
              "96     versicolor\n",
              "Name: species, dtype: object"
            ]
          },
          "metadata": {},
          "execution_count": 25
        }
      ],
      "source": [
        "y_train.head()"
      ]
    },
    {
      "cell_type": "code",
      "execution_count": 34,
      "metadata": {
        "colab": {
          "base_uri": "https://localhost:8080/",
          "height": 75
        },
        "id": "ba2lKhSwroUL",
        "outputId": "eec033fb-1b3a-49be-c935-11c9b96777ac"
      },
      "outputs": [
        {
          "output_type": "execute_result",
          "data": {
            "text/plain": [
              "DecisionTreeClassifier()"
            ],
            "text/html": [
              "<style>#sk-container-id-2 {color: black;background-color: white;}#sk-container-id-2 pre{padding: 0;}#sk-container-id-2 div.sk-toggleable {background-color: white;}#sk-container-id-2 label.sk-toggleable__label {cursor: pointer;display: block;width: 100%;margin-bottom: 0;padding: 0.3em;box-sizing: border-box;text-align: center;}#sk-container-id-2 label.sk-toggleable__label-arrow:before {content: \"▸\";float: left;margin-right: 0.25em;color: #696969;}#sk-container-id-2 label.sk-toggleable__label-arrow:hover:before {color: black;}#sk-container-id-2 div.sk-estimator:hover label.sk-toggleable__label-arrow:before {color: black;}#sk-container-id-2 div.sk-toggleable__content {max-height: 0;max-width: 0;overflow: hidden;text-align: left;background-color: #f0f8ff;}#sk-container-id-2 div.sk-toggleable__content pre {margin: 0.2em;color: black;border-radius: 0.25em;background-color: #f0f8ff;}#sk-container-id-2 input.sk-toggleable__control:checked~div.sk-toggleable__content {max-height: 200px;max-width: 100%;overflow: auto;}#sk-container-id-2 input.sk-toggleable__control:checked~label.sk-toggleable__label-arrow:before {content: \"▾\";}#sk-container-id-2 div.sk-estimator input.sk-toggleable__control:checked~label.sk-toggleable__label {background-color: #d4ebff;}#sk-container-id-2 div.sk-label input.sk-toggleable__control:checked~label.sk-toggleable__label {background-color: #d4ebff;}#sk-container-id-2 input.sk-hidden--visually {border: 0;clip: rect(1px 1px 1px 1px);clip: rect(1px, 1px, 1px, 1px);height: 1px;margin: -1px;overflow: hidden;padding: 0;position: absolute;width: 1px;}#sk-container-id-2 div.sk-estimator {font-family: monospace;background-color: #f0f8ff;border: 1px dotted black;border-radius: 0.25em;box-sizing: border-box;margin-bottom: 0.5em;}#sk-container-id-2 div.sk-estimator:hover {background-color: #d4ebff;}#sk-container-id-2 div.sk-parallel-item::after {content: \"\";width: 100%;border-bottom: 1px solid gray;flex-grow: 1;}#sk-container-id-2 div.sk-label:hover label.sk-toggleable__label {background-color: #d4ebff;}#sk-container-id-2 div.sk-serial::before {content: \"\";position: absolute;border-left: 1px solid gray;box-sizing: border-box;top: 0;bottom: 0;left: 50%;z-index: 0;}#sk-container-id-2 div.sk-serial {display: flex;flex-direction: column;align-items: center;background-color: white;padding-right: 0.2em;padding-left: 0.2em;position: relative;}#sk-container-id-2 div.sk-item {position: relative;z-index: 1;}#sk-container-id-2 div.sk-parallel {display: flex;align-items: stretch;justify-content: center;background-color: white;position: relative;}#sk-container-id-2 div.sk-item::before, #sk-container-id-2 div.sk-parallel-item::before {content: \"\";position: absolute;border-left: 1px solid gray;box-sizing: border-box;top: 0;bottom: 0;left: 50%;z-index: -1;}#sk-container-id-2 div.sk-parallel-item {display: flex;flex-direction: column;z-index: 1;position: relative;background-color: white;}#sk-container-id-2 div.sk-parallel-item:first-child::after {align-self: flex-end;width: 50%;}#sk-container-id-2 div.sk-parallel-item:last-child::after {align-self: flex-start;width: 50%;}#sk-container-id-2 div.sk-parallel-item:only-child::after {width: 0;}#sk-container-id-2 div.sk-dashed-wrapped {border: 1px dashed gray;margin: 0 0.4em 0.5em 0.4em;box-sizing: border-box;padding-bottom: 0.4em;background-color: white;}#sk-container-id-2 div.sk-label label {font-family: monospace;font-weight: bold;display: inline-block;line-height: 1.2em;}#sk-container-id-2 div.sk-label-container {text-align: center;}#sk-container-id-2 div.sk-container {/* jupyter's `normalize.less` sets `[hidden] { display: none; }` but bootstrap.min.css set `[hidden] { display: none !important; }` so we also need the `!important` here to be able to override the default hidden behavior on the sphinx rendered scikit-learn.org. See: https://github.com/scikit-learn/scikit-learn/issues/21755 */display: inline-block !important;position: relative;}#sk-container-id-2 div.sk-text-repr-fallback {display: none;}</style><div id=\"sk-container-id-2\" class=\"sk-top-container\"><div class=\"sk-text-repr-fallback\"><pre>DecisionTreeClassifier()</pre><b>In a Jupyter environment, please rerun this cell to show the HTML representation or trust the notebook. <br />On GitHub, the HTML representation is unable to render, please try loading this page with nbviewer.org.</b></div><div class=\"sk-container\" hidden><div class=\"sk-item\"><div class=\"sk-estimator sk-toggleable\"><input class=\"sk-toggleable__control sk-hidden--visually\" id=\"sk-estimator-id-2\" type=\"checkbox\" checked><label for=\"sk-estimator-id-2\" class=\"sk-toggleable__label sk-toggleable__label-arrow\">DecisionTreeClassifier</label><div class=\"sk-toggleable__content\"><pre>DecisionTreeClassifier()</pre></div></div></div></div></div>"
            ]
          },
          "metadata": {},
          "execution_count": 34
        }
      ],
      "source": [
        "\n",
        "from sklearn.tree import DecisionTreeClassifier\n",
        "\n",
        "classifier = DecisionTreeClassifier()\n",
        "classifier.fit(X_train, y_train)"
      ]
    },
    {
      "cell_type": "code",
      "execution_count": 35,
      "metadata": {
        "colab": {
          "base_uri": "https://localhost:8080/",
          "height": 701
        },
        "id": "U1-6LvkCsbaG",
        "outputId": "cf1c052a-1078-43db-b76d-a3e92d50ad6b"
      },
      "outputs": [
        {
          "output_type": "execute_result",
          "data": {
            "text/plain": [
              "[Text(0.4, 0.9285714285714286, 'x[2] <= 2.6\\ngini = 0.667\\nsamples = 120\\nvalue = [41, 39, 40]'),\n",
              " Text(0.3, 0.7857142857142857, 'gini = 0.0\\nsamples = 41\\nvalue = [41, 0, 0]'),\n",
              " Text(0.5, 0.7857142857142857, 'x[2] <= 4.85\\ngini = 0.5\\nsamples = 79\\nvalue = [0, 39, 40]'),\n",
              " Text(0.2, 0.6428571428571429, 'x[3] <= 1.65\\ngini = 0.1\\nsamples = 38\\nvalue = [0, 36, 2]'),\n",
              " Text(0.1, 0.5, 'gini = 0.0\\nsamples = 35\\nvalue = [0, 35, 0]'),\n",
              " Text(0.3, 0.5, 'x[1] <= 3.0\\ngini = 0.444\\nsamples = 3\\nvalue = [0, 1, 2]'),\n",
              " Text(0.2, 0.35714285714285715, 'gini = 0.0\\nsamples = 2\\nvalue = [0, 0, 2]'),\n",
              " Text(0.4, 0.35714285714285715, 'gini = 0.0\\nsamples = 1\\nvalue = [0, 1, 0]'),\n",
              " Text(0.8, 0.6428571428571429, 'x[3] <= 1.75\\ngini = 0.136\\nsamples = 41\\nvalue = [0, 3, 38]'),\n",
              " Text(0.7, 0.5, 'x[2] <= 5.35\\ngini = 0.49\\nsamples = 7\\nvalue = [0, 3, 4]'),\n",
              " Text(0.6, 0.35714285714285715, 'x[3] <= 1.55\\ngini = 0.48\\nsamples = 5\\nvalue = [0, 3, 2]'),\n",
              " Text(0.5, 0.21428571428571427, 'x[2] <= 4.95\\ngini = 0.444\\nsamples = 3\\nvalue = [0, 1, 2]'),\n",
              " Text(0.4, 0.07142857142857142, 'gini = 0.0\\nsamples = 1\\nvalue = [0, 1, 0]'),\n",
              " Text(0.6, 0.07142857142857142, 'gini = 0.0\\nsamples = 2\\nvalue = [0, 0, 2]'),\n",
              " Text(0.7, 0.21428571428571427, 'gini = 0.0\\nsamples = 2\\nvalue = [0, 2, 0]'),\n",
              " Text(0.8, 0.35714285714285715, 'gini = 0.0\\nsamples = 2\\nvalue = [0, 0, 2]'),\n",
              " Text(0.9, 0.5, 'gini = 0.0\\nsamples = 34\\nvalue = [0, 0, 34]')]"
            ]
          },
          "metadata": {},
          "execution_count": 35
        },
        {
          "output_type": "display_data",
          "data": {
            "text/plain": [
              "<Figure size 640x480 with 1 Axes>"
            ],
            "image/png": "[encoded data removed]"
          },
          "metadata": {}
        }
      ],
      "source": [
        "from sklearn import tree\n",
        "tree.plot_tree(classifier)"
      ]
    },
    {
      "cell_type": "code",
      "execution_count": 36,
      "metadata": {
        "colab": {
          "base_uri": "https://localhost:8080/"
        },
        "id": "_yuG0Qc3uIx5",
        "outputId": "0512cdcb-845f-4c09-b1ce-3783ad3bf5b5"
      },
      "outputs": [
        {
          "output_type": "execute_result",
          "data": {
            "text/plain": [
              "array(['virginica', 'versicolor', 'virginica', 'virginica', 'setosa',\n",
              "       'setosa', 'versicolor', 'virginica', 'virginica', 'setosa',\n",
              "       'versicolor', 'versicolor', 'setosa', 'versicolor', 'virginica',\n",
              "       'setosa', 'setosa', 'setosa', 'virginica', 'setosa', 'versicolor',\n",
              "       'virginica', 'setosa', 'versicolor', 'versicolor', 'versicolor',\n",
              "       'virginica', 'versicolor', 'virginica', 'versicolor'], dtype=object)"
            ]
          },
          "metadata": {},
          "execution_count": 36
        }
      ],
      "source": [
        "y_pred = classifier.predict(X_test)\n",
        "y_pred"
      ]
    },
    {
      "cell_type": "code",
      "execution_count": 37,
      "metadata": {
        "colab": {
          "base_uri": "https://localhost:8080/"
        },
        "id": "UDGbzz3buUTV",
        "outputId": "d83a5b13-8a54-4d64-abbe-6f33474fc1b5"
      },
      "outputs": [
        {
          "output_type": "stream",
          "name": "stdout",
          "text": [
            "[[ 9  0  0]\n",
            " [ 0 11  0]\n",
            " [ 0  0 10]]\n",
            "              precision    recall  f1-score   support\n",
            "\n",
            "      setosa       1.00      1.00      1.00         9\n",
            "  versicolor       1.00      1.00      1.00        11\n",
            "   virginica       1.00      1.00      1.00        10\n",
            "\n",
            "    accuracy                           1.00        30\n",
            "   macro avg       1.00      1.00      1.00        30\n",
            "weighted avg       1.00      1.00      1.00        30\n",
            "\n"
          ]
        }
      ],
      "source": [
        "from sklearn.metrics import classification_report, confusion_matrix\n",
        "print(confusion_matrix(y_test, y_pred))\n",
        "print(classification_report(y_test,y_pred))"
      ]
    },
    {
      "cell_type": "markdown",
      "metadata": {
        "id": "kNKRdeh4u29R"
      },
      "source": [
        "# Задание\n",
        "\n",
        "Постройте классификатор на основе дерева принятия следующего датасета"
      ]
    },
    {
      "cell_type": "code",
      "execution_count": 46,
      "metadata": {
        "id": "qgXUicgEuqTF"
      },
      "outputs": [],
      "source": [
        "import numpy as np\n",
        "from sklearn.tree import DecisionTreeClassifier\n",
        "from sklearn import tree\n",
        "\n",
        "X = np.array([[-1,-1],[-2,-1],[-3,-2],[1,1],[2,1],[3,2]])\n",
        "target = [0,0,0,1,1,1]"
      ]
    },
    {
      "cell_type": "code",
      "execution_count": 47,
      "metadata": {
        "colab": {
          "base_uri": "https://localhost:8080/",
          "height": 423
        },
        "id": "HzRhwCOIh5vN",
        "outputId": "b19701b1-5e37-4f0a-db79-7439deac2aef"
      },
      "outputs": [
        {
          "output_type": "execute_result",
          "data": {
            "text/plain": [
              "array([0, 1])"
            ]
          },
          "metadata": {},
          "execution_count": 47
        },
        {
          "output_type": "display_data",
          "data": {
            "text/plain": [
              "<Figure size 640x480 with 1 Axes>"
            ],
            "image/png": "[encoded data removed]"
          },
          "metadata": {}
        }
      ],
      "source": [
        "from sklearn.model_selection import train_test_split\n",
        "\n",
        "X_train, X_test, y_train, y_test = train_test_split(\n",
        "X,\n",
        "target,\n",
        "test_size = 0.2\n",
        ")\n",
        "classifier = DecisionTreeClassifier()\n",
        "classifier.fit(X, target)\n",
        "tree.plot_tree(classifier)\n",
        "y_pred = classifier.predict(X_test)\n",
        "y_pred"
      ]
    },
    {
      "cell_type": "code",
      "execution_count": 48,
      "metadata": {
        "colab": {
          "base_uri": "https://localhost:8080/"
        },
        "id": "esyKu5hOimgq",
        "outputId": "6d21b35e-1a2a-47b7-c9fc-caf83c50b12a"
      },
      "outputs": [
        {
          "output_type": "stream",
          "name": "stdout",
          "text": [
            "[[1 0]\n",
            " [0 1]]\n",
            "              precision    recall  f1-score   support\n",
            "\n",
            "           0       1.00      1.00      1.00         1\n",
            "           1       1.00      1.00      1.00         1\n",
            "\n",
            "    accuracy                           1.00         2\n",
            "   macro avg       1.00      1.00      1.00         2\n",
            "weighted avg       1.00      1.00      1.00         2\n",
            "\n"
          ]
        }
      ],
      "source": [
        "from sklearn.metrics import classification_report, confusion_matrix\n",
        "print(confusion_matrix(y_test, y_pred))\n",
        "print(classification_report(y_test,y_pred))"
      ]
    },
    {
      "cell_type": "markdown",
      "metadata": {
        "id": "nXdFJDgTwL81"
      },
      "source": [
        "# 1.4.1 Пример\n",
        "\n",
        "Постойте регрессию с использованием дерева решений, реализованного в\n",
        "Python."
      ]
    },
    {
      "cell_type": "code",
      "execution_count": 49,
      "metadata": {
        "colab": {
          "base_uri": "https://localhost:8080/",
          "height": 318
        },
        "id": "MCxyBMGEwVPr",
        "outputId": "d248e57c-8bb3-44b6-f3f5-1692e552a97d"
      },
      "outputs": [
        {
          "output_type": "stream",
          "name": "stdout",
          "text": [
            "(30, 2)\n"
          ]
        },
        {
          "output_type": "execute_result",
          "data": {
            "text/plain": [
              "       YearsExperience         Salary\n",
              "count        30.000000      30.000000\n",
              "mean          5.313333   76003.000000\n",
              "std           2.837888   27414.429785\n",
              "min           1.100000   37731.000000\n",
              "25%           3.200000   56720.750000\n",
              "50%           4.700000   65237.000000\n",
              "75%           7.700000  100544.750000\n",
              "max          10.500000  122391.000000"
            ],
            "text/html": [
              "\n",
              "  <div id=\"df-4240b2c2-f81a-4e0e-8a1c-c4c3800e0630\">\n",
              "    <div class=\"colab-df-container\">\n",
              "      <div>\n",
              "<style scoped>\n",
              "    .dataframe tbody tr th:only-of-type {\n",
              "        vertical-align: middle;\n",
              "    }\n",
              "\n",
              "    .dataframe tbody tr th {\n",
              "        vertical-align: top;\n",
              "    }\n",
              "\n",
              "    .dataframe thead th {\n",
              "        text-align: right;\n",
              "    }\n",
              "</style>\n",
              "<table border=\"1\" class=\"dataframe\">\n",
              "  <thead>\n",
              "    <tr style=\"text-align: right;\">\n",
              "      <th></th>\n",
              "      <th>YearsExperience</th>\n",
              "      <th>Salary</th>\n",
              "    </tr>\n",
              "  </thead>\n",
              "  <tbody>\n",
              "    <tr>\n",
              "      <th>count</th>\n",
              "      <td>30.000000</td>\n",
              "      <td>30.000000</td>\n",
              "    </tr>\n",
              "    <tr>\n",
              "      <th>mean</th>\n",
              "      <td>5.313333</td>\n",
              "      <td>76003.000000</td>\n",
              "    </tr>\n",
              "    <tr>\n",
              "      <th>std</th>\n",
              "      <td>2.837888</td>\n",
              "      <td>27414.429785</td>\n",
              "    </tr>\n",
              "    <tr>\n",
              "      <th>min</th>\n",
              "      <td>1.100000</td>\n",
              "      <td>37731.000000</td>\n",
              "    </tr>\n",
              "    <tr>\n",
              "      <th>25%</th>\n",
              "      <td>3.200000</td>\n",
              "      <td>56720.750000</td>\n",
              "    </tr>\n",
              "    <tr>\n",
              "      <th>50%</th>\n",
              "      <td>4.700000</td>\n",
              "      <td>65237.000000</td>\n",
              "    </tr>\n",
              "    <tr>\n",
              "      <th>75%</th>\n",
              "      <td>7.700000</td>\n",
              "      <td>100544.750000</td>\n",
              "    </tr>\n",
              "    <tr>\n",
              "      <th>max</th>\n",
              "      <td>10.500000</td>\n",
              "      <td>122391.000000</td>\n",
              "    </tr>\n",
              "  </tbody>\n",
              "</table>\n",
              "</div>\n",
              "      <button class=\"colab-df-convert\" onclick=\"convertToInteractive('df-4240b2c2-f81a-4e0e-8a1c-c4c3800e0630')\"\n",
              "              title=\"Convert this dataframe to an interactive table.\"\n",
              "              style=\"display:none;\">\n",
              "        \n",
              "  <svg xmlns=\"http://www.w3.org/2000/svg\" height=\"24px\"viewBox=\"0 0 24 24\"\n",
              "       width=\"24px\">\n",
              "    <path d=\"M0 0h24v24H0V0z\" fill=\"none\"/>\n",
              "    <path d=\"M18.56 5.44l.94 2.06.94-2.06 2.06-.94-2.06-.94-.94-2.06-.94 2.06-2.06.94zm-11 1L8.5 8.5l.94-2.06 2.06-.94-2.06-.94L8.5 2.5l-.94 2.06-2.06.94zm10 10l.94 2.06.94-2.06 2.06-.94-2.06-.94-.94-2.06-.94 2.06-2.06.94z\"/><path d=\"M17.41 7.96l-1.37-1.37c-.4-.4-.92-.59-1.43-.59-.52 0-1.04.2-1.43.59L10.3 9.45l-7.72 7.72c-.78.78-.78 2.05 0 2.83L4 21.41c.39.39.9.59 1.41.59.51 0 1.02-.2 1.41-.59l7.78-7.78 2.81-2.81c.8-.78.8-2.07 0-2.86zM5.41 20L4 18.59l7.72-7.72 1.47 1.35L5.41 20z\"/>\n",
              "  </svg>\n",
              "      </button>\n",
              "      \n",
              "  <style>\n",
              "    .colab-df-container {\n",
              "      display:flex;\n",
              "      flex-wrap:wrap;\n",
              "      gap: 12px;\n",
              "    }\n",
              "\n",
              "    .colab-df-convert {\n",
              "      background-color: #E8F0FE;\n",
              "      border: none;\n",
              "      border-radius: 50%;\n",
              "      cursor: pointer;\n",
              "      display: none;\n",
              "      fill: #1967D2;\n",
              "      height: 32px;\n",
              "      padding: 0 0 0 0;\n",
              "      width: 32px;\n",
              "    }\n",
              "\n",
              "    .colab-df-convert:hover {\n",
              "      background-color: #E2EBFA;\n",
              "      box-shadow: 0px 1px 2px rgba(60, 64, 67, 0.3), 0px 1px 3px 1px rgba(60, 64, 67, 0.15);\n",
              "      fill: #174EA6;\n",
              "    }\n",
              "\n",
              "    [theme=dark] .colab-df-convert {\n",
              "      background-color: #3B4455;\n",
              "      fill: #D2E3FC;\n",
              "    }\n",
              "\n",
              "    [theme=dark] .colab-df-convert:hover {\n",
              "      background-color: #434B5C;\n",
              "      box-shadow: 0px 1px 3px 1px rgba(0, 0, 0, 0.15);\n",
              "      filter: drop-shadow(0px 1px 2px rgba(0, 0, 0, 0.3));\n",
              "      fill: #FFFFFF;\n",
              "    }\n",
              "  </style>\n",
              "\n",
              "      <script>\n",
              "        const buttonEl =\n",
              "          document.querySelector('#df-4240b2c2-f81a-4e0e-8a1c-c4c3800e0630 button.colab-df-convert');\n",
              "        buttonEl.style.display =\n",
              "          google.colab.kernel.accessAllowed ? 'block' : 'none';\n",
              "\n",
              "        async function convertToInteractive(key) {\n",
              "          const element = document.querySelector('#df-4240b2c2-f81a-4e0e-8a1c-c4c3800e0630');\n",
              "          const dataTable =\n",
              "            await google.colab.kernel.invokeFunction('convertToInteractive',\n",
              "                                                     [key], {});\n",
              "          if (!dataTable) return;\n",
              "\n",
              "          const docLinkHtml = 'Like what you see? Visit the ' +\n",
              "            '<a target=\"_blank\" href=https://colab.research.google.com/notebooks/data_table.ipynb>data table notebook</a>'\n",
              "            + ' to learn more about interactive tables.';\n",
              "          element.innerHTML = '';\n",
              "          dataTable['output_type'] = 'display_data';\n",
              "          await google.colab.output.renderOutput(dataTable, element);\n",
              "          const docLink = document.createElement('div');\n",
              "          docLink.innerHTML = docLinkHtml;\n",
              "          element.appendChild(docLink);\n",
              "        }\n",
              "      </script>\n",
              "    </div>\n",
              "  </div>\n",
              "  "
            ]
          },
          "metadata": {},
          "execution_count": 49
        }
      ],
      "source": [
        "import pandas as pd\n",
        "import numpy as np\n",
        "import matplotlib.pyplot as plt\n",
        "\n",
        "url = r\"https://raw.githubusercontent.com/AnnaShestova/salary-years-simple-linear-regression/master/Salary_Data.csv\"\n",
        "dataset = pd.read_csv(url)\n",
        "dataset.head()\n",
        "\n",
        "print(dataset.shape)\n",
        "dataset.describe()"
      ]
    },
    {
      "cell_type": "code",
      "execution_count": 50,
      "metadata": {
        "colab": {
          "base_uri": "https://localhost:8080/",
          "height": 449
        },
        "id": "CngmHc6uw_y7",
        "outputId": "776833f9-c33b-4b2d-adbe-70d2a28e8e0f"
      },
      "outputs": [
        {
          "output_type": "display_data",
          "data": {
            "text/plain": [
              "<Figure size 640x480 with 1 Axes>"
            ],
            "image/png": "[encoded data removed]"
          },
          "metadata": {}
        }
      ],
      "source": [
        "plt.scatter(dataset[\"YearsExperience\"],dataset[\"Salary\"], color='b', label='Заработная плата')\n",
        "plt.xlabel(\"Опыт(лет)\")\n",
        "plt.ylabel(\"Заработная плата\")\n",
        "plt.show()"
      ]
    },
    {
      "cell_type": "code",
      "execution_count": 51,
      "metadata": {
        "colab": {
          "base_uri": "https://localhost:8080/"
        },
        "id": "h3l7fr3UxqYd",
        "outputId": "f09ee634-3136-4b65-c97b-8124dc0060b6"
      },
      "outputs": [
        {
          "output_type": "stream",
          "name": "stdout",
          "text": [
            "[[ 1.1]\n",
            " [ 1.3]\n",
            " [ 1.5]\n",
            " [ 2. ]\n",
            " [ 2.2]\n",
            " [ 2.9]\n",
            " [ 3. ]\n",
            " [ 3.2]\n",
            " [ 3.2]\n",
            " [ 3.7]\n",
            " [ 3.9]\n",
            " [ 4. ]\n",
            " [ 4. ]\n",
            " [ 4.1]\n",
            " [ 4.5]\n",
            " [ 4.9]\n",
            " [ 5.1]\n",
            " [ 5.3]\n",
            " [ 5.9]\n",
            " [ 6. ]\n",
            " [ 6.8]\n",
            " [ 7.1]\n",
            " [ 7.9]\n",
            " [ 8.2]\n",
            " [ 8.7]\n",
            " [ 9. ]\n",
            " [ 9.5]\n",
            " [ 9.6]\n",
            " [10.3]\n",
            " [10.5]]\n",
            "[ 39343.  46205.  37731.  43525.  39891.  56642.  60150.  54445.  64445.\n",
            "  57189.  63218.  55794.  56957.  57081.  61111.  67938.  66029.  83088.\n",
            "  81363.  93940.  91738.  98273. 101302. 113812. 109431. 105582. 116969.\n",
            " 112635. 122391. 121872.]\n"
          ]
        }
      ],
      "source": [
        "from sklearn.tree import DecisionTreeRegressor\n",
        "X = dataset.iloc[:,:-1].values\n",
        "y = dataset.iloc[:, 1].values\n",
        "print(X)\n",
        "print(y)"
      ]
    },
    {
      "cell_type": "code",
      "execution_count": 52,
      "metadata": {
        "colab": {
          "base_uri": "https://localhost:8080/",
          "height": 75
        },
        "id": "uVdTSSHiyBWA",
        "outputId": "df79af62-6e1b-4af1-aa50-09996a067d17"
      },
      "outputs": [
        {
          "output_type": "execute_result",
          "data": {
            "text/plain": [
              "DecisionTreeRegressor()"
            ],
            "text/html": [
              "<style>#sk-container-id-3 {color: black;background-color: white;}#sk-container-id-3 pre{padding: 0;}#sk-container-id-3 div.sk-toggleable {background-color: white;}#sk-container-id-3 label.sk-toggleable__label {cursor: pointer;display: block;width: 100%;margin-bottom: 0;padding: 0.3em;box-sizing: border-box;text-align: center;}#sk-container-id-3 label.sk-toggleable__label-arrow:before {content: \"▸\";float: left;margin-right: 0.25em;color: #696969;}#sk-container-id-3 label.sk-toggleable__label-arrow:hover:before {color: black;}#sk-container-id-3 div.sk-estimator:hover label.sk-toggleable__label-arrow:before {color: black;}#sk-container-id-3 div.sk-toggleable__content {max-height: 0;max-width: 0;overflow: hidden;text-align: left;background-color: #f0f8ff;}#sk-container-id-3 div.sk-toggleable__content pre {margin: 0.2em;color: black;border-radius: 0.25em;background-color: #f0f8ff;}#sk-container-id-3 input.sk-toggleable__control:checked~div.sk-toggleable__content {max-height: 200px;max-width: 100%;overflow: auto;}#sk-container-id-3 input.sk-toggleable__control:checked~label.sk-toggleable__label-arrow:before {content: \"▾\";}#sk-container-id-3 div.sk-estimator input.sk-toggleable__control:checked~label.sk-toggleable__label {background-color: #d4ebff;}#sk-container-id-3 div.sk-label input.sk-toggleable__control:checked~label.sk-toggleable__label {background-color: #d4ebff;}#sk-container-id-3 input.sk-hidden--visually {border: 0;clip: rect(1px 1px 1px 1px);clip: rect(1px, 1px, 1px, 1px);height: 1px;margin: -1px;overflow: hidden;padding: 0;position: absolute;width: 1px;}#sk-container-id-3 div.sk-estimator {font-family: monospace;background-color: #f0f8ff;border: 1px dotted black;border-radius: 0.25em;box-sizing: border-box;margin-bottom: 0.5em;}#sk-container-id-3 div.sk-estimator:hover {background-color: #d4ebff;}#sk-container-id-3 div.sk-parallel-item::after {content: \"\";width: 100%;border-bottom: 1px solid gray;flex-grow: 1;}#sk-container-id-3 div.sk-label:hover label.sk-toggleable__label {background-color: #d4ebff;}#sk-container-id-3 div.sk-serial::before {content: \"\";position: absolute;border-left: 1px solid gray;box-sizing: border-box;top: 0;bottom: 0;left: 50%;z-index: 0;}#sk-container-id-3 div.sk-serial {display: flex;flex-direction: column;align-items: center;background-color: white;padding-right: 0.2em;padding-left: 0.2em;position: relative;}#sk-container-id-3 div.sk-item {position: relative;z-index: 1;}#sk-container-id-3 div.sk-parallel {display: flex;align-items: stretch;justify-content: center;background-color: white;position: relative;}#sk-container-id-3 div.sk-item::before, #sk-container-id-3 div.sk-parallel-item::before {content: \"\";position: absolute;border-left: 1px solid gray;box-sizing: border-box;top: 0;bottom: 0;left: 50%;z-index: -1;}#sk-container-id-3 div.sk-parallel-item {display: flex;flex-direction: column;z-index: 1;position: relative;background-color: white;}#sk-container-id-3 div.sk-parallel-item:first-child::after {align-self: flex-end;width: 50%;}#sk-container-id-3 div.sk-parallel-item:last-child::after {align-self: flex-start;width: 50%;}#sk-container-id-3 div.sk-parallel-item:only-child::after {width: 0;}#sk-container-id-3 div.sk-dashed-wrapped {border: 1px dashed gray;margin: 0 0.4em 0.5em 0.4em;box-sizing: border-box;padding-bottom: 0.4em;background-color: white;}#sk-container-id-3 div.sk-label label {font-family: monospace;font-weight: bold;display: inline-block;line-height: 1.2em;}#sk-container-id-3 div.sk-label-container {text-align: center;}#sk-container-id-3 div.sk-container {/* jupyter's `normalize.less` sets `[hidden] { display: none; }` but bootstrap.min.css set `[hidden] { display: none !important; }` so we also need the `!important` here to be able to override the default hidden behavior on the sphinx rendered scikit-learn.org. See: https://github.com/scikit-learn/scikit-learn/issues/21755 */display: inline-block !important;position: relative;}#sk-container-id-3 div.sk-text-repr-fallback {display: none;}</style><div id=\"sk-container-id-3\" class=\"sk-top-container\"><div class=\"sk-text-repr-fallback\"><pre>DecisionTreeRegressor()</pre><b>In a Jupyter environment, please rerun this cell to show the HTML representation or trust the notebook. <br />On GitHub, the HTML representation is unable to render, please try loading this page with nbviewer.org.</b></div><div class=\"sk-container\" hidden><div class=\"sk-item\"><div class=\"sk-estimator sk-toggleable\"><input class=\"sk-toggleable__control sk-hidden--visually\" id=\"sk-estimator-id-3\" type=\"checkbox\" checked><label for=\"sk-estimator-id-3\" class=\"sk-toggleable__label sk-toggleable__label-arrow\">DecisionTreeRegressor</label><div class=\"sk-toggleable__content\"><pre>DecisionTreeRegressor()</pre></div></div></div></div></div>"
            ]
          },
          "metadata": {},
          "execution_count": 52
        }
      ],
      "source": [
        "X_train, X_test, y_train, y_test = train_test_split(X, y,test_size = 0.2, random_state=0)\n",
        "regressor = DecisionTreeRegressor()\n",
        "regressor.fit(X_train, y_train)"
      ]
    },
    {
      "cell_type": "code",
      "execution_count": 53,
      "metadata": {
        "colab": {
          "base_uri": "https://localhost:8080/",
          "height": 1000
        },
        "id": "3xO8TyO6yuKH",
        "outputId": "b5589acf-5fd5-4e4d-fe92-ccdb92ce8d34"
      },
      "outputs": [
        {
          "output_type": "execute_result",
          "data": {
            "text/plain": [
              "[Text(0.4956896551724138, 0.9375, 'x[0] <= 5.2\\nsquared_error = 614737637.832\\nsamples = 24\\nvalue = 73886.208'),\n",
              " Text(0.20689655172413793, 0.8125, 'x[0] <= 2.55\\nsquared_error = 81200345.857\\nsamples = 14\\nvalue = 54976.0'),\n",
              " Text(0.06896551724137931, 0.6875, 'x[0] <= 1.2\\nsquared_error = 7820714.0\\nsamples = 4\\nvalue = 42241.0'),\n",
              " Text(0.034482758620689655, 0.5625, 'squared_error = 0.0\\nsamples = 1\\nvalue = 39343.0'),\n",
              " Text(0.10344827586206896, 0.5625, 'x[0] <= 2.1\\nsquared_error = 6694994.667\\nsamples = 3\\nvalue = 43207.0'),\n",
              " Text(0.06896551724137931, 0.4375, 'x[0] <= 1.65\\nsquared_error = 1795600.0\\nsamples = 2\\nvalue = 44865.0'),\n",
              " Text(0.034482758620689655, 0.3125, 'squared_error = 0.0\\nsamples = 1\\nvalue = 46205.0'),\n",
              " Text(0.10344827586206896, 0.3125, 'squared_error = 0.0\\nsamples = 1\\nvalue = 43525.0'),\n",
              " Text(0.13793103448275862, 0.4375, 'squared_error = 0.0\\nsamples = 1\\nvalue = 39891.0'),\n",
              " Text(0.3448275862068966, 0.6875, 'x[0] <= 4.7\\nsquared_error = 19731272.6\\nsamples = 10\\nvalue = 60070.0'),\n",
              " Text(0.27586206896551724, 0.5625, 'x[0] <= 4.25\\nsquared_error = 9499922.484\\nsamples = 8\\nvalue = 58341.625'),\n",
              " Text(0.2413793103448276, 0.4375, 'x[0] <= 3.45\\nsquared_error = 9604901.143\\nsamples = 7\\nvalue = 57946.0'),\n",
              " Text(0.1724137931034483, 0.3125, 'x[0] <= 2.95\\nsquared_error = 14313358.25\\nsamples = 4\\nvalue = 58920.5'),\n",
              " Text(0.13793103448275862, 0.1875, 'squared_error = 0.0\\nsamples = 1\\nvalue = 56642.0'),\n",
              " Text(0.20689655172413793, 0.1875, 'x[0] <= 3.1\\nsquared_error = 16777116.667\\nsamples = 3\\nvalue = 59680.0'),\n",
              " Text(0.1724137931034483, 0.0625, 'squared_error = 0.0\\nsamples = 1\\nvalue = 60150.0'),\n",
              " Text(0.2413793103448276, 0.0625, 'squared_error = 25000000.0\\nsamples = 2\\nvalue = 59445.0'),\n",
              " Text(0.3103448275862069, 0.3125, 'x[0] <= 3.85\\nsquared_error = 372490.889\\nsamples = 3\\nvalue = 56646.667'),\n",
              " Text(0.27586206896551724, 0.1875, 'squared_error = 0.0\\nsamples = 1\\nvalue = 57189.0'),\n",
              " Text(0.3448275862068966, 0.1875, 'squared_error = 338142.25\\nsamples = 2\\nvalue = 56375.5'),\n",
              " Text(0.3103448275862069, 0.4375, 'squared_error = 0.0\\nsamples = 1\\nvalue = 61111.0'),\n",
              " Text(0.41379310344827586, 0.5625, 'x[0] <= 5.0\\nsquared_error = 911070.25\\nsamples = 2\\nvalue = 66983.5'),\n",
              " Text(0.3793103448275862, 0.4375, 'squared_error = 0.0\\nsamples = 1\\nvalue = 67938.0'),\n",
              " Text(0.4482758620689655, 0.4375, 'squared_error = 0.0\\nsamples = 1\\nvalue = 66029.0'),\n",
              " Text(0.7844827586206896, 0.8125, 'x[0] <= 8.05\\nsquared_error = 160167356.45\\nsamples = 10\\nvalue = 100360.5'),\n",
              " Text(0.6379310344827587, 0.6875, 'x[0] <= 5.95\\nsquared_error = 53566814.556\\nsamples = 6\\nvalue = 91617.333'),\n",
              " Text(0.5517241379310345, 0.5625, 'x[0] <= 5.6\\nsquared_error = 743906.25\\nsamples = 2\\nvalue = 82225.5'),\n",
              " Text(0.5172413793103449, 0.4375, 'squared_error = 0.0\\nsamples = 1\\nvalue = 83088.0'),\n",
              " Text(0.5862068965517241, 0.4375, 'squared_error = 0.0\\nsamples = 1\\nvalue = 81363.0'),\n",
              " Text(0.7241379310344828, 0.5625, 'x[0] <= 6.95\\nsquared_error = 13823368.688\\nsamples = 4\\nvalue = 96313.25'),\n",
              " Text(0.6551724137931034, 0.4375, 'x[0] <= 6.4\\nsquared_error = 1212201.0\\nsamples = 2\\nvalue = 92839.0'),\n",
              " Text(0.6206896551724138, 0.3125, 'squared_error = 0.0\\nsamples = 1\\nvalue = 93940.0'),\n",
              " Text(0.6896551724137931, 0.3125, 'squared_error = 0.0\\nsamples = 1\\nvalue = 91738.0'),\n",
              " Text(0.7931034482758621, 0.4375, 'x[0] <= 7.5\\nsquared_error = 2293710.25\\nsamples = 2\\nvalue = 99787.5'),\n",
              " Text(0.7586206896551724, 0.3125, 'squared_error = 0.0\\nsamples = 1\\nvalue = 98273.0'),\n",
              " Text(0.8275862068965517, 0.3125, 'squared_error = 0.0\\nsamples = 1\\nvalue = 101302.0'),\n",
              " Text(0.9310344827586207, 0.6875, 'x[0] <= 10.05\\nsquared_error = 33407056.688\\nsamples = 4\\nvalue = 113475.25'),\n",
              " Text(0.896551724137931, 0.5625, 'x[0] <= 8.6\\nsquared_error = 13207004.222\\nsamples = 3\\nvalue = 110676.333'),\n",
              " Text(0.8620689655172413, 0.4375, 'squared_error = 0.0\\nsamples = 1\\nvalue = 113812.0'),\n",
              " Text(0.9310344827586207, 0.4375, 'x[0] <= 9.3\\nsquared_error = 12436202.25\\nsamples = 2\\nvalue = 109108.5'),\n",
              " Text(0.896551724137931, 0.3125, 'squared_error = 0.0\\nsamples = 1\\nvalue = 105582.0'),\n",
              " Text(0.9655172413793104, 0.3125, 'squared_error = 0.0\\nsamples = 1\\nvalue = 112635.0'),\n",
              " Text(0.9655172413793104, 0.5625, 'squared_error = 0.0\\nsamples = 1\\nvalue = 121872.0')]"
            ]
          },
          "metadata": {},
          "execution_count": 53
        },
        {
          "output_type": "display_data",
          "data": {
            "text/plain": [
              "<Figure size 640x480 with 1 Axes>"
            ],
            "image/png": "[encoded data removed]"
          },
          "metadata": {}
        }
      ],
      "source": [
        "from sklearn import tree\n",
        "tree.plot_tree(regressor)"
      ]
    },
    {
      "cell_type": "code",
      "execution_count": 54,
      "metadata": {
        "colab": {
          "base_uri": "https://localhost:8080/"
        },
        "id": "jXhmtK1Jy4-T",
        "outputId": "4880be69-11b5-4caa-b501-7831f87ee5aa"
      },
      "outputs": [
        {
          "output_type": "execute_result",
          "data": {
            "text/plain": [
              "array([ 46205. , 121872. ,  56375.5,  56375.5, 112635. , 105582. ])"
            ]
          },
          "metadata": {},
          "execution_count": 54
        }
      ],
      "source": [
        "y_pred = regressor.predict(X_test)\n",
        "y_pred"
      ]
    },
    {
      "cell_type": "code",
      "execution_count": 55,
      "metadata": {
        "colab": {
          "base_uri": "https://localhost:8080/",
          "height": 238
        },
        "id": "ZK3Bq75by8aa",
        "outputId": "e3d8e811-4da6-4c04-9c27-2c5d5e2051c9"
      },
      "outputs": [
        {
          "output_type": "execute_result",
          "data": {
            "text/plain": [
              "     Actual  Predicted\n",
              "0   37731.0    46205.0\n",
              "1  122391.0   121872.0\n",
              "2   57081.0    56375.5\n",
              "3   63218.0    56375.5\n",
              "4  116969.0   112635.0\n",
              "5  109431.0   105582.0"
            ],
            "text/html": [
              "\n",
              "  <div id=\"df-1dbd0615-dfda-41dd-ae60-359ee0b537aa\">\n",
              "    <div class=\"colab-df-container\">\n",
              "      <div>\n",
              "<style scoped>\n",
              "    .dataframe tbody tr th:only-of-type {\n",
              "        vertical-align: middle;\n",
              "    }\n",
              "\n",
              "    .dataframe tbody tr th {\n",
              "        vertical-align: top;\n",
              "    }\n",
              "\n",
              "    .dataframe thead th {\n",
              "        text-align: right;\n",
              "    }\n",
              "</style>\n",
              "<table border=\"1\" class=\"dataframe\">\n",
              "  <thead>\n",
              "    <tr style=\"text-align: right;\">\n",
              "      <th></th>\n",
              "      <th>Actual</th>\n",
              "      <th>Predicted</th>\n",
              "    </tr>\n",
              "  </thead>\n",
              "  <tbody>\n",
              "    <tr>\n",
              "      <th>0</th>\n",
              "      <td>37731.0</td>\n",
              "      <td>46205.0</td>\n",
              "    </tr>\n",
              "    <tr>\n",
              "      <th>1</th>\n",
              "      <td>122391.0</td>\n",
              "      <td>121872.0</td>\n",
              "    </tr>\n",
              "    <tr>\n",
              "      <th>2</th>\n",
              "      <td>57081.0</td>\n",
              "      <td>56375.5</td>\n",
              "    </tr>\n",
              "    <tr>\n",
              "      <th>3</th>\n",
              "      <td>63218.0</td>\n",
              "      <td>56375.5</td>\n",
              "    </tr>\n",
              "    <tr>\n",
              "      <th>4</th>\n",
              "      <td>116969.0</td>\n",
              "      <td>112635.0</td>\n",
              "    </tr>\n",
              "    <tr>\n",
              "      <th>5</th>\n",
              "      <td>109431.0</td>\n",
              "      <td>105582.0</td>\n",
              "    </tr>\n",
              "  </tbody>\n",
              "</table>\n",
              "</div>\n",
              "      <button class=\"colab-df-convert\" onclick=\"convertToInteractive('df-1dbd0615-dfda-41dd-ae60-359ee0b537aa')\"\n",
              "              title=\"Convert this dataframe to an interactive table.\"\n",
              "              style=\"display:none;\">\n",
              "        \n",
              "  <svg xmlns=\"http://www.w3.org/2000/svg\" height=\"24px\"viewBox=\"0 0 24 24\"\n",
              "       width=\"24px\">\n",
              "    <path d=\"M0 0h24v24H0V0z\" fill=\"none\"/>\n",
              "    <path d=\"M18.56 5.44l.94 2.06.94-2.06 2.06-.94-2.06-.94-.94-2.06-.94 2.06-2.06.94zm-11 1L8.5 8.5l.94-2.06 2.06-.94-2.06-.94L8.5 2.5l-.94 2.06-2.06.94zm10 10l.94 2.06.94-2.06 2.06-.94-2.06-.94-.94-2.06-.94 2.06-2.06.94z\"/><path d=\"M17.41 7.96l-1.37-1.37c-.4-.4-.92-.59-1.43-.59-.52 0-1.04.2-1.43.59L10.3 9.45l-7.72 7.72c-.78.78-.78 2.05 0 2.83L4 21.41c.39.39.9.59 1.41.59.51 0 1.02-.2 1.41-.59l7.78-7.78 2.81-2.81c.8-.78.8-2.07 0-2.86zM5.41 20L4 18.59l7.72-7.72 1.47 1.35L5.41 20z\"/>\n",
              "  </svg>\n",
              "      </button>\n",
              "      \n",
              "  <style>\n",
              "    .colab-df-container {\n",
              "      display:flex;\n",
              "      flex-wrap:wrap;\n",
              "      gap: 12px;\n",
              "    }\n",
              "\n",
              "    .colab-df-convert {\n",
              "      background-color: #E8F0FE;\n",
              "      border: none;\n",
              "      border-radius: 50%;\n",
              "      cursor: pointer;\n",
              "      display: none;\n",
              "      fill: #1967D2;\n",
              "      height: 32px;\n",
              "      padding: 0 0 0 0;\n",
              "      width: 32px;\n",
              "    }\n",
              "\n",
              "    .colab-df-convert:hover {\n",
              "      background-color: #E2EBFA;\n",
              "      box-shadow: 0px 1px 2px rgba(60, 64, 67, 0.3), 0px 1px 3px 1px rgba(60, 64, 67, 0.15);\n",
              "      fill: #174EA6;\n",
              "    }\n",
              "\n",
              "    [theme=dark] .colab-df-convert {\n",
              "      background-color: #3B4455;\n",
              "      fill: #D2E3FC;\n",
              "    }\n",
              "\n",
              "    [theme=dark] .colab-df-convert:hover {\n",
              "      background-color: #434B5C;\n",
              "      box-shadow: 0px 1px 3px 1px rgba(0, 0, 0, 0.15);\n",
              "      filter: drop-shadow(0px 1px 2px rgba(0, 0, 0, 0.3));\n",
              "      fill: #FFFFFF;\n",
              "    }\n",
              "  </style>\n",
              "\n",
              "      <script>\n",
              "        const buttonEl =\n",
              "          document.querySelector('#df-1dbd0615-dfda-41dd-ae60-359ee0b537aa button.colab-df-convert');\n",
              "        buttonEl.style.display =\n",
              "          google.colab.kernel.accessAllowed ? 'block' : 'none';\n",
              "\n",
              "        async function convertToInteractive(key) {\n",
              "          const element = document.querySelector('#df-1dbd0615-dfda-41dd-ae60-359ee0b537aa');\n",
              "          const dataTable =\n",
              "            await google.colab.kernel.invokeFunction('convertToInteractive',\n",
              "                                                     [key], {});\n",
              "          if (!dataTable) return;\n",
              "\n",
              "          const docLinkHtml = 'Like what you see? Visit the ' +\n",
              "            '<a target=\"_blank\" href=https://colab.research.google.com/notebooks/data_table.ipynb>data table notebook</a>'\n",
              "            + ' to learn more about interactive tables.';\n",
              "          element.innerHTML = '';\n",
              "          dataTable['output_type'] = 'display_data';\n",
              "          await google.colab.output.renderOutput(dataTable, element);\n",
              "          const docLink = document.createElement('div');\n",
              "          docLink.innerHTML = docLinkHtml;\n",
              "          element.appendChild(docLink);\n",
              "        }\n",
              "      </script>\n",
              "    </div>\n",
              "  </div>\n",
              "  "
            ]
          },
          "metadata": {},
          "execution_count": 55
        }
      ],
      "source": [
        "df = pd.DataFrame({\"Actual\":y_test, \"Predicted\":y_pred})\n",
        "df"
      ]
    },
    {
      "cell_type": "code",
      "execution_count": 56,
      "metadata": {
        "colab": {
          "base_uri": "https://localhost:8080/"
        },
        "id": "NabD14FizOvU",
        "outputId": "bde04009-05ab-4098-e73c-fcb179e73b3f"
      },
      "outputs": [
        {
          "output_type": "stream",
          "name": "stdout",
          "text": [
            "Mean Squared Error: 25498988.416666668\n",
            "Mean Absolute Error: 4120.666666666667\n"
          ]
        }
      ],
      "source": [
        "from sklearn import metrics\n",
        "print(\"Mean Squared Error:\", metrics.mean_squared_error(y_test, y_pred))\n",
        "print(\"Mean Absolute Error:\", metrics.mean_absolute_error(y_test, y_pred))"
      ]
    },
    {
      "cell_type": "code",
      "execution_count": 57,
      "metadata": {
        "colab": {
          "base_uri": "https://localhost:8080/"
        },
        "id": "ZPggPk7vzsdl",
        "outputId": "5b5248dc-2568-48a9-a159-bcce464b6eae"
      },
      "outputs": [
        {
          "output_type": "execute_result",
          "data": {
            "text/plain": [
              "5.421715809463662"
            ]
          },
          "metadata": {},
          "execution_count": 57
        }
      ],
      "source": [
        "metrics.mean_absolute_error(y_test,y_pred)/np.average(y)*100"
      ]
    },
    {
      "cell_type": "markdown",
      "metadata": {
        "id": "kzZxOUnIz6f1"
      },
      "source": [
        "# Задание\n",
        "\n",
        "Постройте модель регрессии для данных из предыдущей рабочей тетради. Для примера можно взять потребления газа (в миллионах\n",
        "галлонов) в 48 штатах США или набор данных о качестве красного вина.\\\n",
        "Постройте прогноз, оцените точность модели."
      ]
    },
    {
      "cell_type": "code",
      "execution_count": 58,
      "metadata": {
        "colab": {
          "base_uri": "https://localhost:8080/",
          "height": 206
        },
        "id": "f-S4m1Cy0cIU",
        "outputId": "e7cc36db-6b3d-4c20-cc05-636dc0a5f37b"
      },
      "outputs": [
        {
          "output_type": "execute_result",
          "data": {
            "text/plain": [
              "   Petrol_tax  Average_income  Paved_Highways  Population_Driver_licence(%)  \\\n",
              "0         9.0            3571            1976                         0.525   \n",
              "1         9.0            4092            1250                         0.572   \n",
              "2         9.0            3865            1586                         0.580   \n",
              "3         7.5            4870            2351                         0.529   \n",
              "4         8.0            4399             431                         0.544   \n",
              "\n",
              "   Petrol_Consumption  \n",
              "0                 541  \n",
              "1                 524  \n",
              "2                 561  \n",
              "3                 414  \n",
              "4                 410  "
            ],
            "text/html": [
              "\n",
              "  <div id=\"df-35980748-7daa-42c0-ba08-0eb86445af17\">\n",
              "    <div class=\"colab-df-container\">\n",
              "      <div>\n",
              "<style scoped>\n",
              "    .dataframe tbody tr th:only-of-type {\n",
              "        vertical-align: middle;\n",
              "    }\n",
              "\n",
              "    .dataframe tbody tr th {\n",
              "        vertical-align: top;\n",
              "    }\n",
              "\n",
              "    .dataframe thead th {\n",
              "        text-align: right;\n",
              "    }\n",
              "</style>\n",
              "<table border=\"1\" class=\"dataframe\">\n",
              "  <thead>\n",
              "    <tr style=\"text-align: right;\">\n",
              "      <th></th>\n",
              "      <th>Petrol_tax</th>\n",
              "      <th>Average_income</th>\n",
              "      <th>Paved_Highways</th>\n",
              "      <th>Population_Driver_licence(%)</th>\n",
              "      <th>Petrol_Consumption</th>\n",
              "    </tr>\n",
              "  </thead>\n",
              "  <tbody>\n",
              "    <tr>\n",
              "      <th>0</th>\n",
              "      <td>9.0</td>\n",
              "      <td>3571</td>\n",
              "      <td>1976</td>\n",
              "      <td>0.525</td>\n",
              "      <td>541</td>\n",
              "    </tr>\n",
              "    <tr>\n",
              "      <th>1</th>\n",
              "      <td>9.0</td>\n",
              "      <td>4092</td>\n",
              "      <td>1250</td>\n",
              "      <td>0.572</td>\n",
              "      <td>524</td>\n",
              "    </tr>\n",
              "    <tr>\n",
              "      <th>2</th>\n",
              "      <td>9.0</td>\n",
              "      <td>3865</td>\n",
              "      <td>1586</td>\n",
              "      <td>0.580</td>\n",
              "      <td>561</td>\n",
              "    </tr>\n",
              "    <tr>\n",
              "      <th>3</th>\n",
              "      <td>7.5</td>\n",
              "      <td>4870</td>\n",
              "      <td>2351</td>\n",
              "      <td>0.529</td>\n",
              "      <td>414</td>\n",
              "    </tr>\n",
              "    <tr>\n",
              "      <th>4</th>\n",
              "      <td>8.0</td>\n",
              "      <td>4399</td>\n",
              "      <td>431</td>\n",
              "      <td>0.544</td>\n",
              "      <td>410</td>\n",
              "    </tr>\n",
              "  </tbody>\n",
              "</table>\n",
              "</div>\n",
              "      <button class=\"colab-df-convert\" onclick=\"convertToInteractive('df-35980748-7daa-42c0-ba08-0eb86445af17')\"\n",
              "              title=\"Convert this dataframe to an interactive table.\"\n",
              "              style=\"display:none;\">\n",
              "        \n",
              "  <svg xmlns=\"http://www.w3.org/2000/svg\" height=\"24px\"viewBox=\"0 0 24 24\"\n",
              "       width=\"24px\">\n",
              "    <path d=\"M0 0h24v24H0V0z\" fill=\"none\"/>\n",
              "    <path d=\"M18.56 5.44l.94 2.06.94-2.06 2.06-.94-2.06-.94-.94-2.06-.94 2.06-2.06.94zm-11 1L8.5 8.5l.94-2.06 2.06-.94-2.06-.94L8.5 2.5l-.94 2.06-2.06.94zm10 10l.94 2.06.94-2.06 2.06-.94-2.06-.94-.94-2.06-.94 2.06-2.06.94z\"/><path d=\"M17.41 7.96l-1.37-1.37c-.4-.4-.92-.59-1.43-.59-.52 0-1.04.2-1.43.59L10.3 9.45l-7.72 7.72c-.78.78-.78 2.05 0 2.83L4 21.41c.39.39.9.59 1.41.59.51 0 1.02-.2 1.41-.59l7.78-7.78 2.81-2.81c.8-.78.8-2.07 0-2.86zM5.41 20L4 18.59l7.72-7.72 1.47 1.35L5.41 20z\"/>\n",
              "  </svg>\n",
              "      </button>\n",
              "      \n",
              "  <style>\n",
              "    .colab-df-container {\n",
              "      display:flex;\n",
              "      flex-wrap:wrap;\n",
              "      gap: 12px;\n",
              "    }\n",
              "\n",
              "    .colab-df-convert {\n",
              "      background-color: #E8F0FE;\n",
              "      border: none;\n",
              "      border-radius: 50%;\n",
              "      cursor: pointer;\n",
              "      display: none;\n",
              "      fill: #1967D2;\n",
              "      height: 32px;\n",
              "      padding: 0 0 0 0;\n",
              "      width: 32px;\n",
              "    }\n",
              "\n",
              "    .colab-df-convert:hover {\n",
              "      background-color: #E2EBFA;\n",
              "      box-shadow: 0px 1px 2px rgba(60, 64, 67, 0.3), 0px 1px 3px 1px rgba(60, 64, 67, 0.15);\n",
              "      fill: #174EA6;\n",
              "    }\n",
              "\n",
              "    [theme=dark] .colab-df-convert {\n",
              "      background-color: #3B4455;\n",
              "      fill: #D2E3FC;\n",
              "    }\n",
              "\n",
              "    [theme=dark] .colab-df-convert:hover {\n",
              "      background-color: #434B5C;\n",
              "      box-shadow: 0px 1px 3px 1px rgba(0, 0, 0, 0.15);\n",
              "      filter: drop-shadow(0px 1px 2px rgba(0, 0, 0, 0.3));\n",
              "      fill: #FFFFFF;\n",
              "    }\n",
              "  </style>\n",
              "\n",
              "      <script>\n",
              "        const buttonEl =\n",
              "          document.querySelector('#df-35980748-7daa-42c0-ba08-0eb86445af17 button.colab-df-convert');\n",
              "        buttonEl.style.display =\n",
              "          google.colab.kernel.accessAllowed ? 'block' : 'none';\n",
              "\n",
              "        async function convertToInteractive(key) {\n",
              "          const element = document.querySelector('#df-35980748-7daa-42c0-ba08-0eb86445af17');\n",
              "          const dataTable =\n",
              "            await google.colab.kernel.invokeFunction('convertToInteractive',\n",
              "                                                     [key], {});\n",
              "          if (!dataTable) return;\n",
              "\n",
              "          const docLinkHtml = 'Like what you see? Visit the ' +\n",
              "            '<a target=\"_blank\" href=https://colab.research.google.com/notebooks/data_table.ipynb>data table notebook</a>'\n",
              "            + ' to learn more about interactive tables.';\n",
              "          element.innerHTML = '';\n",
              "          dataTable['output_type'] = 'display_data';\n",
              "          await google.colab.output.renderOutput(dataTable, element);\n",
              "          const docLink = document.createElement('div');\n",
              "          docLink.innerHTML = docLinkHtml;\n",
              "          element.appendChild(docLink);\n",
              "        }\n",
              "      </script>\n",
              "    </div>\n",
              "  </div>\n",
              "  "
            ]
          },
          "metadata": {},
          "execution_count": 58
        }
      ],
      "source": [
        "url = \"https://raw.githubusercontent.com/likarajo/petrol_consumption/master/data/petrol_consumption.csv\"\n",
        "dataset = pd.read_csv(url)\n",
        "dataset.head()"
      ]
    },
    {
      "cell_type": "code",
      "execution_count": 59,
      "metadata": {
        "colab": {
          "base_uri": "https://localhost:8080/",
          "height": 318
        },
        "id": "8wqwiFHfz1_d",
        "outputId": "01700a57-2637-43cd-a032-bd6b13f2370a"
      },
      "outputs": [
        {
          "output_type": "stream",
          "name": "stdout",
          "text": [
            "(48, 5)\n"
          ]
        },
        {
          "output_type": "execute_result",
          "data": {
            "text/plain": [
              "       Petrol_tax  Average_income  Paved_Highways  \\\n",
              "count   48.000000       48.000000       48.000000   \n",
              "mean     7.668333     4241.833333     5565.416667   \n",
              "std      0.950770      573.623768     3491.507166   \n",
              "min      5.000000     3063.000000      431.000000   \n",
              "25%      7.000000     3739.000000     3110.250000   \n",
              "50%      7.500000     4298.000000     4735.500000   \n",
              "75%      8.125000     4578.750000     7156.000000   \n",
              "max     10.000000     5342.000000    17782.000000   \n",
              "\n",
              "       Population_Driver_licence(%)  Petrol_Consumption  \n",
              "count                     48.000000           48.000000  \n",
              "mean                       0.570333          576.770833  \n",
              "std                        0.055470          111.885816  \n",
              "min                        0.451000          344.000000  \n",
              "25%                        0.529750          509.500000  \n",
              "50%                        0.564500          568.500000  \n",
              "75%                        0.595250          632.750000  \n",
              "max                        0.724000          968.000000  "
            ],
            "text/html": [
              "\n",
              "  <div id=\"df-ba5b2d21-8cc1-4687-bef8-f2765b8fb501\">\n",
              "    <div class=\"colab-df-container\">\n",
              "      <div>\n",
              "<style scoped>\n",
              "    .dataframe tbody tr th:only-of-type {\n",
              "        vertical-align: middle;\n",
              "    }\n",
              "\n",
              "    .dataframe tbody tr th {\n",
              "        vertical-align: top;\n",
              "    }\n",
              "\n",
              "    .dataframe thead th {\n",
              "        text-align: right;\n",
              "    }\n",
              "</style>\n",
              "<table border=\"1\" class=\"dataframe\">\n",
              "  <thead>\n",
              "    <tr style=\"text-align: right;\">\n",
              "      <th></th>\n",
              "      <th>Petrol_tax</th>\n",
              "      <th>Average_income</th>\n",
              "      <th>Paved_Highways</th>\n",
              "      <th>Population_Driver_licence(%)</th>\n",
              "      <th>Petrol_Consumption</th>\n",
              "    </tr>\n",
              "  </thead>\n",
              "  <tbody>\n",
              "    <tr>\n",
              "      <th>count</th>\n",
              "      <td>48.000000</td>\n",
              "      <td>48.000000</td>\n",
              "      <td>48.000000</td>\n",
              "      <td>48.000000</td>\n",
              "      <td>48.000000</td>\n",
              "    </tr>\n",
              "    <tr>\n",
              "      <th>mean</th>\n",
              "      <td>7.668333</td>\n",
              "      <td>4241.833333</td>\n",
              "      <td>5565.416667</td>\n",
              "      <td>0.570333</td>\n",
              "      <td>576.770833</td>\n",
              "    </tr>\n",
              "    <tr>\n",
              "      <th>std</th>\n",
              "      <td>0.950770</td>\n",
              "      <td>573.623768</td>\n",
              "      <td>3491.507166</td>\n",
              "      <td>0.055470</td>\n",
              "      <td>111.885816</td>\n",
              "    </tr>\n",
              "    <tr>\n",
              "      <th>min</th>\n",
              "      <td>5.000000</td>\n",
              "      <td>3063.000000</td>\n",
              "      <td>431.000000</td>\n",
              "      <td>0.451000</td>\n",
              "      <td>344.000000</td>\n",
              "    </tr>\n",
              "    <tr>\n",
              "      <th>25%</th>\n",
              "      <td>7.000000</td>\n",
              "      <td>3739.000000</td>\n",
              "      <td>3110.250000</td>\n",
              "      <td>0.529750</td>\n",
              "      <td>509.500000</td>\n",
              "    </tr>\n",
              "    <tr>\n",
              "      <th>50%</th>\n",
              "      <td>7.500000</td>\n",
              "      <td>4298.000000</td>\n",
              "      <td>4735.500000</td>\n",
              "      <td>0.564500</td>\n",
              "      <td>568.500000</td>\n",
              "    </tr>\n",
              "    <tr>\n",
              "      <th>75%</th>\n",
              "      <td>8.125000</td>\n",
              "      <td>4578.750000</td>\n",
              "      <td>7156.000000</td>\n",
              "      <td>0.595250</td>\n",
              "      <td>632.750000</td>\n",
              "    </tr>\n",
              "    <tr>\n",
              "      <th>max</th>\n",
              "      <td>10.000000</td>\n",
              "      <td>5342.000000</td>\n",
              "      <td>17782.000000</td>\n",
              "      <td>0.724000</td>\n",
              "      <td>968.000000</td>\n",
              "    </tr>\n",
              "  </tbody>\n",
              "</table>\n",
              "</div>\n",
              "      <button class=\"colab-df-convert\" onclick=\"convertToInteractive('df-ba5b2d21-8cc1-4687-bef8-f2765b8fb501')\"\n",
              "              title=\"Convert this dataframe to an interactive table.\"\n",
              "              style=\"display:none;\">\n",
              "        \n",
              "  <svg xmlns=\"http://www.w3.org/2000/svg\" height=\"24px\"viewBox=\"0 0 24 24\"\n",
              "       width=\"24px\">\n",
              "    <path d=\"M0 0h24v24H0V0z\" fill=\"none\"/>\n",
              "    <path d=\"M18.56 5.44l.94 2.06.94-2.06 2.06-.94-2.06-.94-.94-2.06-.94 2.06-2.06.94zm-11 1L8.5 8.5l.94-2.06 2.06-.94-2.06-.94L8.5 2.5l-.94 2.06-2.06.94zm10 10l.94 2.06.94-2.06 2.06-.94-2.06-.94-.94-2.06-.94 2.06-2.06.94z\"/><path d=\"M17.41 7.96l-1.37-1.37c-.4-.4-.92-.59-1.43-.59-.52 0-1.04.2-1.43.59L10.3 9.45l-7.72 7.72c-.78.78-.78 2.05 0 2.83L4 21.41c.39.39.9.59 1.41.59.51 0 1.02-.2 1.41-.59l7.78-7.78 2.81-2.81c.8-.78.8-2.07 0-2.86zM5.41 20L4 18.59l7.72-7.72 1.47 1.35L5.41 20z\"/>\n",
              "  </svg>\n",
              "      </button>\n",
              "      \n",
              "  <style>\n",
              "    .colab-df-container {\n",
              "      display:flex;\n",
              "      flex-wrap:wrap;\n",
              "      gap: 12px;\n",
              "    }\n",
              "\n",
              "    .colab-df-convert {\n",
              "      background-color: #E8F0FE;\n",
              "      border: none;\n",
              "      border-radius: 50%;\n",
              "      cursor: pointer;\n",
              "      display: none;\n",
              "      fill: #1967D2;\n",
              "      height: 32px;\n",
              "      padding: 0 0 0 0;\n",
              "      width: 32px;\n",
              "    }\n",
              "\n",
              "    .colab-df-convert:hover {\n",
              "      background-color: #E2EBFA;\n",
              "      box-shadow: 0px 1px 2px rgba(60, 64, 67, 0.3), 0px 1px 3px 1px rgba(60, 64, 67, 0.15);\n",
              "      fill: #174EA6;\n",
              "    }\n",
              "\n",
              "    [theme=dark] .colab-df-convert {\n",
              "      background-color: #3B4455;\n",
              "      fill: #D2E3FC;\n",
              "    }\n",
              "\n",
              "    [theme=dark] .colab-df-convert:hover {\n",
              "      background-color: #434B5C;\n",
              "      box-shadow: 0px 1px 3px 1px rgba(0, 0, 0, 0.15);\n",
              "      filter: drop-shadow(0px 1px 2px rgba(0, 0, 0, 0.3));\n",
              "      fill: #FFFFFF;\n",
              "    }\n",
              "  </style>\n",
              "\n",
              "      <script>\n",
              "        const buttonEl =\n",
              "          document.querySelector('#df-ba5b2d21-8cc1-4687-bef8-f2765b8fb501 button.colab-df-convert');\n",
              "        buttonEl.style.display =\n",
              "          google.colab.kernel.accessAllowed ? 'block' : 'none';\n",
              "\n",
              "        async function convertToInteractive(key) {\n",
              "          const element = document.querySelector('#df-ba5b2d21-8cc1-4687-bef8-f2765b8fb501');\n",
              "          const dataTable =\n",
              "            await google.colab.kernel.invokeFunction('convertToInteractive',\n",
              "                                                     [key], {});\n",
              "          if (!dataTable) return;\n",
              "\n",
              "          const docLinkHtml = 'Like what you see? Visit the ' +\n",
              "            '<a target=\"_blank\" href=https://colab.research.google.com/notebooks/data_table.ipynb>data table notebook</a>'\n",
              "            + ' to learn more about interactive tables.';\n",
              "          element.innerHTML = '';\n",
              "          dataTable['output_type'] = 'display_data';\n",
              "          await google.colab.output.renderOutput(dataTable, element);\n",
              "          const docLink = document.createElement('div');\n",
              "          docLink.innerHTML = docLinkHtml;\n",
              "          element.appendChild(docLink);\n",
              "        }\n",
              "      </script>\n",
              "    </div>\n",
              "  </div>\n",
              "  "
            ]
          },
          "metadata": {},
          "execution_count": 59
        }
      ],
      "source": [
        "print(dataset.shape)\n",
        "dataset.describe()"
      ]
    },
    {
      "cell_type": "code",
      "execution_count": 60,
      "metadata": {
        "colab": {
          "base_uri": "https://localhost:8080/"
        },
        "id": "mmVJ8dmF1i3o",
        "outputId": "5f5ae334-98b0-44c8-980c-5c5d316bd07f"
      },
      "outputs": [
        {
          "output_type": "stream",
          "name": "stdout",
          "text": [
            "[[9.0000e+00 3.5710e+03 1.9760e+03 5.2500e-01]\n",
            " [9.0000e+00 4.0920e+03 1.2500e+03 5.7200e-01]\n",
            " [9.0000e+00 3.8650e+03 1.5860e+03 5.8000e-01]\n",
            " [7.5000e+00 4.8700e+03 2.3510e+03 5.2900e-01]\n",
            " [8.0000e+00 4.3990e+03 4.3100e+02 5.4400e-01]\n",
            " [1.0000e+01 5.3420e+03 1.3330e+03 5.7100e-01]\n",
            " [8.0000e+00 5.3190e+03 1.1868e+04 4.5100e-01]\n",
            " [8.0000e+00 5.1260e+03 2.1380e+03 5.5300e-01]\n",
            " [8.0000e+00 4.4470e+03 8.5770e+03 5.2900e-01]\n",
            " [7.0000e+00 4.5120e+03 8.5070e+03 5.5200e-01]\n",
            " [8.0000e+00 4.3910e+03 5.9390e+03 5.3000e-01]\n",
            " [7.5000e+00 5.1260e+03 1.4186e+04 5.2500e-01]\n",
            " [7.0000e+00 4.8170e+03 6.9300e+03 5.7400e-01]\n",
            " [7.0000e+00 4.2070e+03 6.5800e+03 5.4500e-01]\n",
            " [7.0000e+00 4.3320e+03 8.1590e+03 6.0800e-01]\n",
            " [7.0000e+00 4.3180e+03 1.0340e+04 5.8600e-01]\n",
            " [7.0000e+00 4.2060e+03 8.5080e+03 5.7200e-01]\n",
            " [7.0000e+00 3.7180e+03 4.7250e+03 5.4000e-01]\n",
            " [7.0000e+00 4.7160e+03 5.9150e+03 7.2400e-01]\n",
            " [8.5000e+00 4.3410e+03 6.0100e+03 6.7700e-01]\n",
            " [7.0000e+00 4.5930e+03 7.8340e+03 6.6300e-01]\n",
            " [8.0000e+00 4.9830e+03 6.0200e+02 6.0200e-01]\n",
            " [9.0000e+00 4.8970e+03 2.4490e+03 5.1100e-01]\n",
            " [9.0000e+00 4.2580e+03 4.6860e+03 5.1700e-01]\n",
            " [8.5000e+00 4.5740e+03 2.6190e+03 5.5100e-01]\n",
            " [9.0000e+00 3.7210e+03 4.7460e+03 5.4400e-01]\n",
            " [8.0000e+00 3.4480e+03 5.3990e+03 5.4800e-01]\n",
            " [7.5000e+00 3.8460e+03 9.0610e+03 5.7900e-01]\n",
            " [8.0000e+00 4.1880e+03 5.9750e+03 5.6300e-01]\n",
            " [9.0000e+00 3.6010e+03 4.6500e+03 4.9300e-01]\n",
            " [7.0000e+00 3.6400e+03 6.9050e+03 5.1800e-01]\n",
            " [7.0000e+00 3.3330e+03 6.5940e+03 5.1300e-01]\n",
            " [8.0000e+00 3.0630e+03 6.5240e+03 5.7800e-01]\n",
            " [7.5000e+00 3.3570e+03 4.1210e+03 5.4700e-01]\n",
            " [8.0000e+00 3.5280e+03 3.4950e+03 4.8700e-01]\n",
            " [6.5800e+00 3.8020e+03 7.8340e+03 6.2900e-01]\n",
            " [5.0000e+00 4.0450e+03 1.7782e+04 5.6600e-01]\n",
            " [7.0000e+00 3.8970e+03 6.3850e+03 5.8600e-01]\n",
            " [8.5000e+00 3.6350e+03 3.2740e+03 6.6300e-01]\n",
            " [7.0000e+00 4.3450e+03 3.9050e+03 6.7200e-01]\n",
            " [7.0000e+00 4.4490e+03 4.6390e+03 6.2600e-01]\n",
            " [7.0000e+00 3.6560e+03 3.9850e+03 5.6300e-01]\n",
            " [7.0000e+00 4.3000e+03 3.6350e+03 6.0300e-01]\n",
            " [7.0000e+00 3.7450e+03 2.6110e+03 5.0800e-01]\n",
            " [6.0000e+00 5.2150e+03 2.3020e+03 6.7200e-01]\n",
            " [9.0000e+00 4.4760e+03 3.9420e+03 5.7100e-01]\n",
            " [7.0000e+00 4.2960e+03 4.0830e+03 6.2300e-01]\n",
            " [7.0000e+00 5.0020e+03 9.7940e+03 5.9300e-01]]\n",
            "[3571 4092 3865 4870 4399 5342 5319 5126 4447 4512 4391 5126 4817 4207\n",
            " 4332 4318 4206 3718 4716 4341 4593 4983 4897 4258 4574 3721 3448 3846\n",
            " 4188 3601 3640 3333 3063 3357 3528 3802 4045 3897 3635 4345 4449 3656\n",
            " 4300 3745 5215 4476 4296 5002]\n"
          ]
        }
      ],
      "source": [
        "from sklearn.tree import DecisionTreeRegressor\n",
        "X = dataset.iloc[:,:-1].values\n",
        "y = dataset.iloc[:, 1].values\n",
        "print(X)\n",
        "print(y)"
      ]
    },
    {
      "cell_type": "code",
      "execution_count": 61,
      "metadata": {
        "colab": {
          "base_uri": "https://localhost:8080/",
          "height": 75
        },
        "id": "8Ts3SXIP1yKx",
        "outputId": "619fe135-2c95-47fa-ea33-e6e9528001fd"
      },
      "outputs": [
        {
          "output_type": "execute_result",
          "data": {
            "text/plain": [
              "DecisionTreeRegressor()"
            ],
            "text/html": [
              "<style>#sk-container-id-4 {color: black;background-color: white;}#sk-container-id-4 pre{padding: 0;}#sk-container-id-4 div.sk-toggleable {background-color: white;}#sk-container-id-4 label.sk-toggleable__label {cursor: pointer;display: block;width: 100%;margin-bottom: 0;padding: 0.3em;box-sizing: border-box;text-align: center;}#sk-container-id-4 label.sk-toggleable__label-arrow:before {content: \"▸\";float: left;margin-right: 0.25em;color: #696969;}#sk-container-id-4 label.sk-toggleable__label-arrow:hover:before {color: black;}#sk-container-id-4 div.sk-estimator:hover label.sk-toggleable__label-arrow:before {color: black;}#sk-container-id-4 div.sk-toggleable__content {max-height: 0;max-width: 0;overflow: hidden;text-align: left;background-color: #f0f8ff;}#sk-container-id-4 div.sk-toggleable__content pre {margin: 0.2em;color: black;border-radius: 0.25em;background-color: #f0f8ff;}#sk-container-id-4 input.sk-toggleable__control:checked~div.sk-toggleable__content {max-height: 200px;max-width: 100%;overflow: auto;}#sk-container-id-4 input.sk-toggleable__control:checked~label.sk-toggleable__label-arrow:before {content: \"▾\";}#sk-container-id-4 div.sk-estimator input.sk-toggleable__control:checked~label.sk-toggleable__label {background-color: #d4ebff;}#sk-container-id-4 div.sk-label input.sk-toggleable__control:checked~label.sk-toggleable__label {background-color: #d4ebff;}#sk-container-id-4 input.sk-hidden--visually {border: 0;clip: rect(1px 1px 1px 1px);clip: rect(1px, 1px, 1px, 1px);height: 1px;margin: -1px;overflow: hidden;padding: 0;position: absolute;width: 1px;}#sk-container-id-4 div.sk-estimator {font-family: monospace;background-color: #f0f8ff;border: 1px dotted black;border-radius: 0.25em;box-sizing: border-box;margin-bottom: 0.5em;}#sk-container-id-4 div.sk-estimator:hover {background-color: #d4ebff;}#sk-container-id-4 div.sk-parallel-item::after {content: \"\";width: 100%;border-bottom: 1px solid gray;flex-grow: 1;}#sk-container-id-4 div.sk-label:hover label.sk-toggleable__label {background-color: #d4ebff;}#sk-container-id-4 div.sk-serial::before {content: \"\";position: absolute;border-left: 1px solid gray;box-sizing: border-box;top: 0;bottom: 0;left: 50%;z-index: 0;}#sk-container-id-4 div.sk-serial {display: flex;flex-direction: column;align-items: center;background-color: white;padding-right: 0.2em;padding-left: 0.2em;position: relative;}#sk-container-id-4 div.sk-item {position: relative;z-index: 1;}#sk-container-id-4 div.sk-parallel {display: flex;align-items: stretch;justify-content: center;background-color: white;position: relative;}#sk-container-id-4 div.sk-item::before, #sk-container-id-4 div.sk-parallel-item::before {content: \"\";position: absolute;border-left: 1px solid gray;box-sizing: border-box;top: 0;bottom: 0;left: 50%;z-index: -1;}#sk-container-id-4 div.sk-parallel-item {display: flex;flex-direction: column;z-index: 1;position: relative;background-color: white;}#sk-container-id-4 div.sk-parallel-item:first-child::after {align-self: flex-end;width: 50%;}#sk-container-id-4 div.sk-parallel-item:last-child::after {align-self: flex-start;width: 50%;}#sk-container-id-4 div.sk-parallel-item:only-child::after {width: 0;}#sk-container-id-4 div.sk-dashed-wrapped {border: 1px dashed gray;margin: 0 0.4em 0.5em 0.4em;box-sizing: border-box;padding-bottom: 0.4em;background-color: white;}#sk-container-id-4 div.sk-label label {font-family: monospace;font-weight: bold;display: inline-block;line-height: 1.2em;}#sk-container-id-4 div.sk-label-container {text-align: center;}#sk-container-id-4 div.sk-container {/* jupyter's `normalize.less` sets `[hidden] { display: none; }` but bootstrap.min.css set `[hidden] { display: none !important; }` so we also need the `!important` here to be able to override the default hidden behavior on the sphinx rendered scikit-learn.org. See: https://github.com/scikit-learn/scikit-learn/issues/21755 */display: inline-block !important;position: relative;}#sk-container-id-4 div.sk-text-repr-fallback {display: none;}</style><div id=\"sk-container-id-4\" class=\"sk-top-container\"><div class=\"sk-text-repr-fallback\"><pre>DecisionTreeRegressor()</pre><b>In a Jupyter environment, please rerun this cell to show the HTML representation or trust the notebook. <br />On GitHub, the HTML representation is unable to render, please try loading this page with nbviewer.org.</b></div><div class=\"sk-container\" hidden><div class=\"sk-item\"><div class=\"sk-estimator sk-toggleable\"><input class=\"sk-toggleable__control sk-hidden--visually\" id=\"sk-estimator-id-4\" type=\"checkbox\" checked><label for=\"sk-estimator-id-4\" class=\"sk-toggleable__label sk-toggleable__label-arrow\">DecisionTreeRegressor</label><div class=\"sk-toggleable__content\"><pre>DecisionTreeRegressor()</pre></div></div></div></div></div>"
            ]
          },
          "metadata": {},
          "execution_count": 61
        }
      ],
      "source": [
        "X_train, X_test, y_train, y_test = train_test_split(X, y,test_size = 0.2, random_state=0)\n",
        "regressor = DecisionTreeRegressor()\n",
        "regressor.fit(X_train, y_train)"
      ]
    },
    {
      "cell_type": "code",
      "execution_count": 62,
      "metadata": {
        "colab": {
          "base_uri": "https://localhost:8080/",
          "height": 1000
        },
        "id": "eDD-0RXA11lm",
        "outputId": "5751d25f-2310-4849-fa89-1f879d72df94"
      },
      "outputs": [
        {
          "output_type": "execute_result",
          "data": {
            "text/plain": [
              "[Text(0.4877232142857143, 0.9375, 'x[1] <= 4396.0\\nsquared_error = 288278.46\\nsamples = 38\\nvalue = 4317.526'),\n",
              " Text(0.22098214285714285, 0.8125, 'x[1] <= 3955.0\\nsquared_error = 103912.083\\nsamples = 23\\nvalue = 3964.217'),\n",
              " Text(0.08482142857142858, 0.6875, 'x[1] <= 3464.0\\nsquared_error = 28944.0\\nsamples = 11\\nvalue = 3659.0'),\n",
              " Text(0.03571428571428571, 0.5625, 'x[3] <= 0.53\\nsquared_error = 144.0\\nsamples = 2\\nvalue = 3345.0'),\n",
              " Text(0.017857142857142856, 0.4375, 'squared_error = 0.0\\nsamples = 1\\nvalue = 3333.0'),\n",
              " Text(0.05357142857142857, 0.4375, 'squared_error = 0.0\\nsamples = 1\\nvalue = 3357.0'),\n",
              " Text(0.13392857142857142, 0.5625, 'x[1] <= 3773.5\\nsquared_error = 8564.84\\nsamples = 9\\nvalue = 3728.778'),\n",
              " Text(0.08928571428571429, 0.4375, 'x[1] <= 3687.0\\nsquared_error = 3606.556\\nsamples = 6\\nvalue = 3674.333'),\n",
              " Text(0.05357142857142857, 0.3125, 'x[1] <= 3603.0\\nsquared_error = 1306.889\\nsamples = 3\\nvalue = 3620.667'),\n",
              " Text(0.03571428571428571, 0.1875, 'squared_error = 0.0\\nsamples = 1\\nvalue = 3571.0'),\n",
              " Text(0.07142857142857142, 0.1875, 'x[0] <= 7.75\\nsquared_error = 110.25\\nsamples = 2\\nvalue = 3645.5'),\n",
              " Text(0.05357142857142857, 0.0625, 'squared_error = 0.0\\nsamples = 1\\nvalue = 3656.0'),\n",
              " Text(0.08928571428571429, 0.0625, 'squared_error = 0.0\\nsamples = 1\\nvalue = 3635.0'),\n",
              " Text(0.125, 0.3125, 'x[2] <= 3668.0\\nsquared_error = 146.0\\nsamples = 3\\nvalue = 3728.0'),\n",
              " Text(0.10714285714285714, 0.1875, 'squared_error = 0.0\\nsamples = 1\\nvalue = 3745.0'),\n",
              " Text(0.14285714285714285, 0.1875, 'x[0] <= 8.0\\nsquared_error = 2.25\\nsamples = 2\\nvalue = 3719.5'),\n",
              " Text(0.125, 0.0625, 'squared_error = 0.0\\nsamples = 1\\nvalue = 3718.0'),\n",
              " Text(0.16071428571428573, 0.0625, 'squared_error = 0.0\\nsamples = 1\\nvalue = 3721.0'),\n",
              " Text(0.17857142857142858, 0.4375, 'x[1] <= 3824.0\\nsquared_error = 696.222\\nsamples = 3\\nvalue = 3837.667'),\n",
              " Text(0.16071428571428573, 0.3125, 'squared_error = 0.0\\nsamples = 1\\nvalue = 3802.0'),\n",
              " Text(0.19642857142857142, 0.3125, 'x[1] <= 3855.5\\nsquared_error = 90.25\\nsamples = 2\\nvalue = 3855.5'),\n",
              " Text(0.17857142857142858, 0.1875, 'squared_error = 0.0\\nsamples = 1\\nvalue = 3846.0'),\n",
              " Text(0.21428571428571427, 0.1875, 'squared_error = 0.0\\nsamples = 1\\nvalue = 3865.0'),\n",
              " Text(0.35714285714285715, 0.6875, 'x[1] <= 4232.5\\nsquared_error = 8960.0\\nsamples = 12\\nvalue = 4244.0'),\n",
              " Text(0.2857142857142857, 0.5625, 'x[1] <= 4140.0\\nsquared_error = 4437.84\\nsamples = 5\\nvalue = 4147.6'),\n",
              " Text(0.25, 0.4375, 'x[1] <= 4068.5\\nsquared_error = 552.25\\nsamples = 2\\nvalue = 4068.5'),\n",
              " Text(0.23214285714285715, 0.3125, 'squared_error = 0.0\\nsamples = 1\\nvalue = 4045.0'),\n",
              " Text(0.26785714285714285, 0.3125, 'squared_error = 0.0\\nsamples = 1\\nvalue = 4092.0'),\n",
              " Text(0.32142857142857145, 0.4375, 'x[2] <= 6277.5\\nsquared_error = 76.222\\nsamples = 3\\nvalue = 4200.333'),\n",
              " Text(0.30357142857142855, 0.3125, 'squared_error = 0.0\\nsamples = 1\\nvalue = 4188.0'),\n",
              " Text(0.3392857142857143, 0.3125, 'x[3] <= 0.559\\nsquared_error = 0.25\\nsamples = 2\\nvalue = 4206.5'),\n",
              " Text(0.32142857142857145, 0.1875, 'squared_error = 0.0\\nsamples = 1\\nvalue = 4207.0'),\n",
              " Text(0.35714285714285715, 0.1875, 'squared_error = 0.0\\nsamples = 1\\nvalue = 4206.0'),\n",
              " Text(0.42857142857142855, 0.5625, 'x[1] <= 4309.0\\nsquared_error = 810.98\\nsamples = 7\\nvalue = 4312.857'),\n",
              " Text(0.39285714285714285, 0.4375, 'x[3] <= 0.56\\nsquared_error = 358.222\\nsamples = 3\\nvalue = 4284.667'),\n",
              " Text(0.375, 0.3125, 'squared_error = 0.0\\nsamples = 1\\nvalue = 4258.0'),\n",
              " Text(0.4107142857142857, 0.3125, 'x[2] <= 3859.0\\nsquared_error = 4.0\\nsamples = 2\\nvalue = 4298.0'),\n",
              " Text(0.39285714285714285, 0.1875, 'squared_error = 0.0\\nsamples = 1\\nvalue = 4300.0'),\n",
              " Text(0.42857142857142855, 0.1875, 'squared_error = 0.0\\nsamples = 1\\nvalue = 4296.0'),\n",
              " Text(0.4642857142857143, 0.4375, 'x[1] <= 4325.0\\nsquared_error = 107.5\\nsamples = 4\\nvalue = 4334.0'),\n",
              " Text(0.44642857142857145, 0.3125, 'squared_error = 0.0\\nsamples = 1\\nvalue = 4318.0'),\n",
              " Text(0.48214285714285715, 0.3125, 'x[1] <= 4336.5\\nsquared_error = 29.556\\nsamples = 3\\nvalue = 4339.333'),\n",
              " Text(0.4642857142857143, 0.1875, 'squared_error = 0.0\\nsamples = 1\\nvalue = 4332.0'),\n",
              " Text(0.5, 0.1875, 'x[1] <= 4343.0\\nsquared_error = 4.0\\nsamples = 2\\nvalue = 4343.0'),\n",
              " Text(0.48214285714285715, 0.0625, 'squared_error = 0.0\\nsamples = 1\\nvalue = 4341.0'),\n",
              " Text(0.5178571428571429, 0.0625, 'squared_error = 0.0\\nsamples = 1\\nvalue = 4345.0'),\n",
              " Text(0.7544642857142857, 0.8125, 'x[1] <= 4843.5\\nsquared_error = 86089.262\\nsamples = 15\\nvalue = 4859.267'),\n",
              " Text(0.6517857142857143, 0.6875, 'x[1] <= 4654.5\\nsquared_error = 15313.633\\nsamples = 7\\nvalue = 4590.714'),\n",
              " Text(0.6071428571428571, 0.5625, 'x[1] <= 4543.0\\nsquared_error = 3114.64\\nsamples = 5\\nvalue = 4520.4'),\n",
              " Text(0.5714285714285714, 0.4375, 'x[1] <= 4494.0\\nsquared_error = 706.889\\nsamples = 3\\nvalue = 4478.333'),\n",
              " Text(0.5535714285714286, 0.3125, 'x[2] <= 6259.5\\nsquared_error = 210.25\\nsamples = 2\\nvalue = 4461.5'),\n",
              " Text(0.5357142857142857, 0.1875, 'squared_error = 0.0\\nsamples = 1\\nvalue = 4476.0'),\n",
              " Text(0.5714285714285714, 0.1875, 'squared_error = 0.0\\nsamples = 1\\nvalue = 4447.0'),\n",
              " Text(0.5892857142857143, 0.3125, 'squared_error = 0.0\\nsamples = 1\\nvalue = 4512.0'),\n",
              " Text(0.6428571428571429, 0.4375, 'x[0] <= 7.75\\nsquared_error = 90.25\\nsamples = 2\\nvalue = 4583.5'),\n",
              " Text(0.625, 0.3125, 'squared_error = 0.0\\nsamples = 1\\nvalue = 4593.0'),\n",
              " Text(0.6607142857142857, 0.3125, 'squared_error = 0.0\\nsamples = 1\\nvalue = 4574.0'),\n",
              " Text(0.6964285714285714, 0.5625, 'x[1] <= 4766.5\\nsquared_error = 2550.25\\nsamples = 2\\nvalue = 4766.5'),\n",
              " Text(0.6785714285714286, 0.4375, 'squared_error = 0.0\\nsamples = 1\\nvalue = 4716.0'),\n",
              " Text(0.7142857142857143, 0.4375, 'squared_error = 0.0\\nsamples = 1\\nvalue = 4817.0'),\n",
              " Text(0.8571428571428571, 0.6875, 'x[1] <= 5064.0\\nsquared_error = 29695.438\\nsamples = 8\\nvalue = 5094.25'),\n",
              " Text(0.7857142857142857, 0.5625, 'x[3] <= 0.561\\nsquared_error = 3106.5\\nsamples = 4\\nvalue = 4938.0'),\n",
              " Text(0.75, 0.4375, 'x[1] <= 4883.5\\nsquared_error = 182.25\\nsamples = 2\\nvalue = 4883.5'),\n",
              " Text(0.7321428571428571, 0.3125, 'squared_error = 0.0\\nsamples = 1\\nvalue = 4870.0'),\n",
              " Text(0.7678571428571429, 0.3125, 'squared_error = 0.0\\nsamples = 1\\nvalue = 4897.0'),\n",
              " Text(0.8214285714285714, 0.4375, 'x[3] <= 0.597\\nsquared_error = 90.25\\nsamples = 2\\nvalue = 4992.5'),\n",
              " Text(0.8035714285714286, 0.3125, 'squared_error = 0.0\\nsamples = 1\\nvalue = 5002.0'),\n",
              " Text(0.8392857142857143, 0.3125, 'squared_error = 0.0\\nsamples = 1\\nvalue = 4983.0'),\n",
              " Text(0.9285714285714286, 0.5625, 'x[0] <= 7.75\\nsquared_error = 7456.25\\nsamples = 4\\nvalue = 5250.5'),\n",
              " Text(0.8928571428571429, 0.4375, 'x[2] <= 8244.0\\nsquared_error = 1980.25\\nsamples = 2\\nvalue = 5170.5'),\n",
              " Text(0.875, 0.3125, 'squared_error = 0.0\\nsamples = 1\\nvalue = 5215.0'),\n",
              " Text(0.9107142857142857, 0.3125, 'squared_error = 0.0\\nsamples = 1\\nvalue = 5126.0'),\n",
              " Text(0.9642857142857143, 0.4375, 'x[2] <= 6600.5\\nsquared_error = 132.25\\nsamples = 2\\nvalue = 5330.5'),\n",
              " Text(0.9464285714285714, 0.3125, 'squared_error = 0.0\\nsamples = 1\\nvalue = 5342.0'),\n",
              " Text(0.9821428571428571, 0.3125, 'squared_error = 0.0\\nsamples = 1\\nvalue = 5319.0')]"
            ]
          },
          "metadata": {},
          "execution_count": 62
        },
        {
          "output_type": "display_data",
          "data": {
            "text/plain": [
              "<Figure size 640x480 with 1 Axes>"
            ],
            "image/png": "[encoded data removed]"
          },
          "metadata": {}
        }
      ],
      "source": [
        "from sklearn import tree\n",
        "tree.plot_tree(regressor)"
      ]
    },
    {
      "cell_type": "code",
      "execution_count": 63,
      "metadata": {
        "colab": {
          "base_uri": "https://localhost:8080/"
        },
        "id": "yuyNZXlm2P55",
        "outputId": "486e0efa-ed25-42dc-8ad8-24163a3eb0ac"
      },
      "outputs": [
        {
          "output_type": "execute_result",
          "data": {
            "text/plain": [
              "array([3571., 4476., 3357., 3656., 3357., 3865., 3571., 4476., 5342.,\n",
              "       4345.])"
            ]
          },
          "metadata": {},
          "execution_count": 63
        }
      ],
      "source": [
        "y_pred = regressor.predict(X_test)\n",
        "y_pred"
      ]
    },
    {
      "cell_type": "code",
      "execution_count": 64,
      "metadata": {
        "colab": {
          "base_uri": "https://localhost:8080/",
          "height": 363
        },
        "id": "sixsMvsh18Ew",
        "outputId": "eee99d32-bc20-4c4f-b46d-b02ecebbd820"
      },
      "outputs": [
        {
          "output_type": "execute_result",
          "data": {
            "text/plain": [
              "   Actual  Predicted\n",
              "0    3601     3571.0\n",
              "1    4399     4476.0\n",
              "2    3448     3357.0\n",
              "3    3640     3656.0\n",
              "4    3063     3357.0\n",
              "5    3897     3865.0\n",
              "6    3528     3571.0\n",
              "7    4449     4476.0\n",
              "8    5126     5342.0\n",
              "9    4391     4345.0"
            ],
            "text/html": [
              "\n",
              "  <div id=\"df-60dbe13f-828d-4f65-8b2f-15bb3040777e\">\n",
              "    <div class=\"colab-df-container\">\n",
              "      <div>\n",
              "<style scoped>\n",
              "    .dataframe tbody tr th:only-of-type {\n",
              "        vertical-align: middle;\n",
              "    }\n",
              "\n",
              "    .dataframe tbody tr th {\n",
              "        vertical-align: top;\n",
              "    }\n",
              "\n",
              "    .dataframe thead th {\n",
              "        text-align: right;\n",
              "    }\n",
              "</style>\n",
              "<table border=\"1\" class=\"dataframe\">\n",
              "  <thead>\n",
              "    <tr style=\"text-align: right;\">\n",
              "      <th></th>\n",
              "      <th>Actual</th>\n",
              "      <th>Predicted</th>\n",
              "    </tr>\n",
              "  </thead>\n",
              "  <tbody>\n",
              "    <tr>\n",
              "      <th>0</th>\n",
              "      <td>3601</td>\n",
              "      <td>3571.0</td>\n",
              "    </tr>\n",
              "    <tr>\n",
              "      <th>1</th>\n",
              "      <td>4399</td>\n",
              "      <td>4476.0</td>\n",
              "    </tr>\n",
              "    <tr>\n",
              "      <th>2</th>\n",
              "      <td>3448</td>\n",
              "      <td>3357.0</td>\n",
              "    </tr>\n",
              "    <tr>\n",
              "      <th>3</th>\n",
              "      <td>3640</td>\n",
              "      <td>3656.0</td>\n",
              "    </tr>\n",
              "    <tr>\n",
              "      <th>4</th>\n",
              "      <td>3063</td>\n",
              "      <td>3357.0</td>\n",
              "    </tr>\n",
              "    <tr>\n",
              "      <th>5</th>\n",
              "      <td>3897</td>\n",
              "      <td>3865.0</td>\n",
              "    </tr>\n",
              "    <tr>\n",
              "      <th>6</th>\n",
              "      <td>3528</td>\n",
              "      <td>3571.0</td>\n",
              "    </tr>\n",
              "    <tr>\n",
              "      <th>7</th>\n",
              "      <td>4449</td>\n",
              "      <td>4476.0</td>\n",
              "    </tr>\n",
              "    <tr>\n",
              "      <th>8</th>\n",
              "      <td>5126</td>\n",
              "      <td>5342.0</td>\n",
              "    </tr>\n",
              "    <tr>\n",
              "      <th>9</th>\n",
              "      <td>4391</td>\n",
              "      <td>4345.0</td>\n",
              "    </tr>\n",
              "  </tbody>\n",
              "</table>\n",
              "</div>\n",
              "      <button class=\"colab-df-convert\" onclick=\"convertToInteractive('df-60dbe13f-828d-4f65-8b2f-15bb3040777e')\"\n",
              "              title=\"Convert this dataframe to an interactive table.\"\n",
              "              style=\"display:none;\">\n",
              "        \n",
              "  <svg xmlns=\"http://www.w3.org/2000/svg\" height=\"24px\"viewBox=\"0 0 24 24\"\n",
              "       width=\"24px\">\n",
              "    <path d=\"M0 0h24v24H0V0z\" fill=\"none\"/>\n",
              "    <path d=\"M18.56 5.44l.94 2.06.94-2.06 2.06-.94-2.06-.94-.94-2.06-.94 2.06-2.06.94zm-11 1L8.5 8.5l.94-2.06 2.06-.94-2.06-.94L8.5 2.5l-.94 2.06-2.06.94zm10 10l.94 2.06.94-2.06 2.06-.94-2.06-.94-.94-2.06-.94 2.06-2.06.94z\"/><path d=\"M17.41 7.96l-1.37-1.37c-.4-.4-.92-.59-1.43-.59-.52 0-1.04.2-1.43.59L10.3 9.45l-7.72 7.72c-.78.78-.78 2.05 0 2.83L4 21.41c.39.39.9.59 1.41.59.51 0 1.02-.2 1.41-.59l7.78-7.78 2.81-2.81c.8-.78.8-2.07 0-2.86zM5.41 20L4 18.59l7.72-7.72 1.47 1.35L5.41 20z\"/>\n",
              "  </svg>\n",
              "      </button>\n",
              "      \n",
              "  <style>\n",
              "    .colab-df-container {\n",
              "      display:flex;\n",
              "      flex-wrap:wrap;\n",
              "      gap: 12px;\n",
              "    }\n",
              "\n",
              "    .colab-df-convert {\n",
              "      background-color: #E8F0FE;\n",
              "      border: none;\n",
              "      border-radius: 50%;\n",
              "      cursor: pointer;\n",
              "      display: none;\n",
              "      fill: #1967D2;\n",
              "      height: 32px;\n",
              "      padding: 0 0 0 0;\n",
              "      width: 32px;\n",
              "    }\n",
              "\n",
              "    .colab-df-convert:hover {\n",
              "      background-color: #E2EBFA;\n",
              "      box-shadow: 0px 1px 2px rgba(60, 64, 67, 0.3), 0px 1px 3px 1px rgba(60, 64, 67, 0.15);\n",
              "      fill: #174EA6;\n",
              "    }\n",
              "\n",
              "    [theme=dark] .colab-df-convert {\n",
              "      background-color: #3B4455;\n",
              "      fill: #D2E3FC;\n",
              "    }\n",
              "\n",
              "    [theme=dark] .colab-df-convert:hover {\n",
              "      background-color: #434B5C;\n",
              "      box-shadow: 0px 1px 3px 1px rgba(0, 0, 0, 0.15);\n",
              "      filter: drop-shadow(0px 1px 2px rgba(0, 0, 0, 0.3));\n",
              "      fill: #FFFFFF;\n",
              "    }\n",
              "  </style>\n",
              "\n",
              "      <script>\n",
              "        const buttonEl =\n",
              "          document.querySelector('#df-60dbe13f-828d-4f65-8b2f-15bb3040777e button.colab-df-convert');\n",
              "        buttonEl.style.display =\n",
              "          google.colab.kernel.accessAllowed ? 'block' : 'none';\n",
              "\n",
              "        async function convertToInteractive(key) {\n",
              "          const element = document.querySelector('#df-60dbe13f-828d-4f65-8b2f-15bb3040777e');\n",
              "          const dataTable =\n",
              "            await google.colab.kernel.invokeFunction('convertToInteractive',\n",
              "                                                     [key], {});\n",
              "          if (!dataTable) return;\n",
              "\n",
              "          const docLinkHtml = 'Like what you see? Visit the ' +\n",
              "            '<a target=\"_blank\" href=https://colab.research.google.com/notebooks/data_table.ipynb>data table notebook</a>'\n",
              "            + ' to learn more about interactive tables.';\n",
              "          element.innerHTML = '';\n",
              "          dataTable['output_type'] = 'display_data';\n",
              "          await google.colab.output.renderOutput(dataTable, element);\n",
              "          const docLink = document.createElement('div');\n",
              "          docLink.innerHTML = docLinkHtml;\n",
              "          element.appendChild(docLink);\n",
              "        }\n",
              "      </script>\n",
              "    </div>\n",
              "  </div>\n",
              "  "
            ]
          },
          "metadata": {},
          "execution_count": 64
        }
      ],
      "source": [
        "df = pd.DataFrame({\"Actual\":y_test, \"Predicted\":y_pred})\n",
        "df"
      ]
    },
    {
      "cell_type": "code",
      "execution_count": 65,
      "metadata": {
        "colab": {
          "base_uri": "https://localhost:8080/"
        },
        "id": "iKw0HQj22Dmh",
        "outputId": "3afff760-487d-4271-abe3-9d094d97c1b6"
      },
      "outputs": [
        {
          "output_type": "stream",
          "name": "stdout",
          "text": [
            "Mean Squared Error: 15417.6\n",
            "Mean Absolute Error: 87.2\n"
          ]
        }
      ],
      "source": [
        "from sklearn import metrics\n",
        "print(\"Mean Squared Error:\", metrics.mean_squared_error(y_test, y_pred))\n",
        "print(\"Mean Absolute Error:\", metrics.mean_absolute_error(y_test, y_pred))"
      ]
    },
    {
      "cell_type": "code",
      "execution_count": 66,
      "metadata": {
        "colab": {
          "base_uri": "https://localhost:8080/"
        },
        "id": "QuOYehOg2dmZ",
        "outputId": "ad3cbc17-6f29-4678-e356-db6eb3195b30"
      },
      "outputs": [
        {
          "output_type": "execute_result",
          "data": {
            "text/plain": [
              "2.055714903147224"
            ]
          },
          "metadata": {},
          "execution_count": 66
        }
      ],
      "source": [
        "metrics.mean_absolute_error(y_test,y_pred)/np.average(y)*100"
      ]
    }
  ],
  "metadata": {
    "colab": {
      "provenance": [],
      "collapsed_sections": [
        "4gYu6pJTmxsw",
        "dB2JMBMkXMZ-",
        "p5RKcen_XiDB",
        "wJCCCW-va49I",
        "sGbGI7wImE-i",
        "sSgaYcGCpAtz",
        "kNKRdeh4u29R",
        "nXdFJDgTwL81"
      ]
    },
    "kernelspec": {
      "display_name": "Python 3",
      "name": "python3"
    },
    "language_info": {
      "name": "python"
    }
  },
  "nbformat": 4,
  "nbformat_minor": 0
}
